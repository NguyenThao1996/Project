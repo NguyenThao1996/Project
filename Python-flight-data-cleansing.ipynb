{
 "cells": [
  {
   "cell_type": "code",
   "execution_count": 1,
   "id": "8059c10d",
   "metadata": {},
   "outputs": [],
   "source": [
    "#import necessary libaries\n",
    "import numpy as np\n",
    "import pandas as pd\n",
    "import matplotlib.pyplot as plt\n",
    "import seaborn as sns\n",
    "%matplotlib inline"
   ]
  },
  {
   "cell_type": "markdown",
   "id": "9ce801db",
   "metadata": {},
   "source": [
    "# Read data"
   ]
  },
  {
   "cell_type": "code",
   "execution_count": 2,
   "id": "0490e4ed",
   "metadata": {},
   "outputs": [],
   "source": [
    "df = pd.read_csv('flights.txt', sep='|')"
   ]
  },
  {
   "cell_type": "code",
   "execution_count": 3,
   "id": "4d6c76cc",
   "metadata": {},
   "outputs": [],
   "source": [
    "pd.set_option('display.max_columns', None)"
   ]
  },
  {
   "cell_type": "code",
   "execution_count": 4,
   "id": "27ba022f",
   "metadata": {},
   "outputs": [
    {
     "data": {
      "text/html": [
       "<div>\n",
       "<style scoped>\n",
       "    .dataframe tbody tr th:only-of-type {\n",
       "        vertical-align: middle;\n",
       "    }\n",
       "\n",
       "    .dataframe tbody tr th {\n",
       "        vertical-align: top;\n",
       "    }\n",
       "\n",
       "    .dataframe thead th {\n",
       "        text-align: right;\n",
       "    }\n",
       "</style>\n",
       "<table border=\"1\" class=\"dataframe\">\n",
       "  <thead>\n",
       "    <tr style=\"text-align: right;\">\n",
       "      <th></th>\n",
       "      <th>TRANSACTIONID</th>\n",
       "      <th>FLIGHTDATE</th>\n",
       "      <th>AIRLINECODE</th>\n",
       "      <th>AIRLINENAME</th>\n",
       "      <th>TAILNUM</th>\n",
       "      <th>FLIGHTNUM</th>\n",
       "      <th>ORIGINAIRPORTCODE</th>\n",
       "      <th>ORIGAIRPORTNAME</th>\n",
       "      <th>ORIGINCITYNAME</th>\n",
       "      <th>ORIGINSTATE</th>\n",
       "      <th>ORIGINSTATENAME</th>\n",
       "      <th>DESTAIRPORTCODE</th>\n",
       "      <th>DESTAIRPORTNAME</th>\n",
       "      <th>DESTCITYNAME</th>\n",
       "      <th>DESTSTATE</th>\n",
       "      <th>DESTSTATENAME</th>\n",
       "      <th>CRSDEPTIME</th>\n",
       "      <th>DEPTIME</th>\n",
       "      <th>DEPDELAY</th>\n",
       "      <th>TAXIOUT</th>\n",
       "      <th>WHEELSOFF</th>\n",
       "      <th>WHEELSON</th>\n",
       "      <th>TAXIIN</th>\n",
       "      <th>CRSARRTIME</th>\n",
       "      <th>ARRTIME</th>\n",
       "      <th>ARRDELAY</th>\n",
       "      <th>CRSELAPSEDTIME</th>\n",
       "      <th>ACTUALELAPSEDTIME</th>\n",
       "      <th>CANCELLED</th>\n",
       "      <th>DIVERTED</th>\n",
       "      <th>DISTANCE</th>\n",
       "    </tr>\n",
       "  </thead>\n",
       "  <tbody>\n",
       "    <tr>\n",
       "      <th>0</th>\n",
       "      <td>54548800</td>\n",
       "      <td>20020101</td>\n",
       "      <td>WN</td>\n",
       "      <td>Southwest Airlines Co.: WN</td>\n",
       "      <td>N103@@</td>\n",
       "      <td>1425</td>\n",
       "      <td>ABQ</td>\n",
       "      <td>AlbuquerqueNM: Albuquerque International Sunport</td>\n",
       "      <td>Albuquerque</td>\n",
       "      <td>NM</td>\n",
       "      <td>New Mexico</td>\n",
       "      <td>DAL</td>\n",
       "      <td>DallasTX: Dallas Love Field</td>\n",
       "      <td>Dallas</td>\n",
       "      <td>TX</td>\n",
       "      <td>Texas</td>\n",
       "      <td>1425</td>\n",
       "      <td>1425.0</td>\n",
       "      <td>0.0</td>\n",
       "      <td>8.0</td>\n",
       "      <td>1433.0</td>\n",
       "      <td>1648.0</td>\n",
       "      <td>4.0</td>\n",
       "      <td>1655</td>\n",
       "      <td>1652.0</td>\n",
       "      <td>-3.0</td>\n",
       "      <td>90.0</td>\n",
       "      <td>87.0</td>\n",
       "      <td>F</td>\n",
       "      <td>False</td>\n",
       "      <td>580 miles</td>\n",
       "    </tr>\n",
       "    <tr>\n",
       "      <th>1</th>\n",
       "      <td>55872300</td>\n",
       "      <td>20020101</td>\n",
       "      <td>CO</td>\n",
       "      <td>Continental Air Lines Inc.: CO</td>\n",
       "      <td>N83872</td>\n",
       "      <td>150</td>\n",
       "      <td>ABQ</td>\n",
       "      <td>AlbuquerqueNM: Albuquerque International Sunport</td>\n",
       "      <td>Albuquerque</td>\n",
       "      <td>NM</td>\n",
       "      <td>New Mexico</td>\n",
       "      <td>IAH</td>\n",
       "      <td>HoustonTX: George Bush Intercontinental/Houston</td>\n",
       "      <td>Houston</td>\n",
       "      <td>TX</td>\n",
       "      <td>Texas</td>\n",
       "      <td>1130</td>\n",
       "      <td>1136.0</td>\n",
       "      <td>6.0</td>\n",
       "      <td>12.0</td>\n",
       "      <td>1148.0</td>\n",
       "      <td>1419.0</td>\n",
       "      <td>16.0</td>\n",
       "      <td>1426</td>\n",
       "      <td>1435.0</td>\n",
       "      <td>9.0</td>\n",
       "      <td>116.0</td>\n",
       "      <td>119.0</td>\n",
       "      <td>False</td>\n",
       "      <td>F</td>\n",
       "      <td>744 miles</td>\n",
       "    </tr>\n",
       "    <tr>\n",
       "      <th>2</th>\n",
       "      <td>54388800</td>\n",
       "      <td>20020101</td>\n",
       "      <td>WN</td>\n",
       "      <td>Southwest Airlines Co.: WN</td>\n",
       "      <td>N334@@</td>\n",
       "      <td>249</td>\n",
       "      <td>ABQ</td>\n",
       "      <td>AlbuquerqueNM: Albuquerque International Sunport</td>\n",
       "      <td>Albuquerque</td>\n",
       "      <td>NM</td>\n",
       "      <td>New Mexico</td>\n",
       "      <td>MCI</td>\n",
       "      <td>Kansas CityMO: Kansas City International</td>\n",
       "      <td>Kansas City</td>\n",
       "      <td>MO</td>\n",
       "      <td>Missouri</td>\n",
       "      <td>1215</td>\n",
       "      <td>1338.0</td>\n",
       "      <td>83.0</td>\n",
       "      <td>7.0</td>\n",
       "      <td>1345.0</td>\n",
       "      <td>1618.0</td>\n",
       "      <td>2.0</td>\n",
       "      <td>1500</td>\n",
       "      <td>1620.0</td>\n",
       "      <td>80.0</td>\n",
       "      <td>105.0</td>\n",
       "      <td>102.0</td>\n",
       "      <td>F</td>\n",
       "      <td>False</td>\n",
       "      <td>718 miles</td>\n",
       "    </tr>\n",
       "    <tr>\n",
       "      <th>3</th>\n",
       "      <td>54486500</td>\n",
       "      <td>20020101</td>\n",
       "      <td>WN</td>\n",
       "      <td>Southwest Airlines Co.: WN</td>\n",
       "      <td>N699@@</td>\n",
       "      <td>902</td>\n",
       "      <td>ABQ</td>\n",
       "      <td>AlbuquerqueNM: Albuquerque International Sunport</td>\n",
       "      <td>Albuquerque</td>\n",
       "      <td>NM</td>\n",
       "      <td>New Mexico</td>\n",
       "      <td>LAS</td>\n",
       "      <td>Las VegasNV: McCarran International</td>\n",
       "      <td>Las Vegas</td>\n",
       "      <td>NV</td>\n",
       "      <td>Nevada</td>\n",
       "      <td>1925</td>\n",
       "      <td>1925.0</td>\n",
       "      <td>0.0</td>\n",
       "      <td>5.0</td>\n",
       "      <td>1930.0</td>\n",
       "      <td>1947.0</td>\n",
       "      <td>1.0</td>\n",
       "      <td>1950</td>\n",
       "      <td>1948.0</td>\n",
       "      <td>-2.0</td>\n",
       "      <td>85.0</td>\n",
       "      <td>83.0</td>\n",
       "      <td>0</td>\n",
       "      <td>0</td>\n",
       "      <td>487 miles</td>\n",
       "    </tr>\n",
       "    <tr>\n",
       "      <th>4</th>\n",
       "      <td>55878700</td>\n",
       "      <td>20020103</td>\n",
       "      <td>CO</td>\n",
       "      <td>Continental Air Lines Inc.: CO</td>\n",
       "      <td>N58606</td>\n",
       "      <td>234</td>\n",
       "      <td>ABQ</td>\n",
       "      <td>AlbuquerqueNM: Albuquerque International Sunport</td>\n",
       "      <td>Albuquerque</td>\n",
       "      <td>NM</td>\n",
       "      <td>New Mexico</td>\n",
       "      <td>IAH</td>\n",
       "      <td>HoustonTX: George Bush Intercontinental/Houston</td>\n",
       "      <td>Houston</td>\n",
       "      <td>TX</td>\n",
       "      <td>Texas</td>\n",
       "      <td>1455</td>\n",
       "      <td>1453.0</td>\n",
       "      <td>-2.0</td>\n",
       "      <td>11.0</td>\n",
       "      <td>1504.0</td>\n",
       "      <td>1742.0</td>\n",
       "      <td>5.0</td>\n",
       "      <td>1750</td>\n",
       "      <td>1747.0</td>\n",
       "      <td>-3.0</td>\n",
       "      <td>115.0</td>\n",
       "      <td>114.0</td>\n",
       "      <td>F</td>\n",
       "      <td>False</td>\n",
       "      <td>744 miles</td>\n",
       "    </tr>\n",
       "  </tbody>\n",
       "</table>\n",
       "</div>"
      ],
      "text/plain": [
       "   TRANSACTIONID  FLIGHTDATE AIRLINECODE                     AIRLINENAME  \\\n",
       "0       54548800    20020101          WN      Southwest Airlines Co.: WN   \n",
       "1       55872300    20020101          CO  Continental Air Lines Inc.: CO   \n",
       "2       54388800    20020101          WN      Southwest Airlines Co.: WN   \n",
       "3       54486500    20020101          WN      Southwest Airlines Co.: WN   \n",
       "4       55878700    20020103          CO  Continental Air Lines Inc.: CO   \n",
       "\n",
       "  TAILNUM  FLIGHTNUM ORIGINAIRPORTCODE  \\\n",
       "0  N103@@       1425               ABQ   \n",
       "1  N83872        150               ABQ   \n",
       "2  N334@@        249               ABQ   \n",
       "3  N699@@        902               ABQ   \n",
       "4  N58606        234               ABQ   \n",
       "\n",
       "                                    ORIGAIRPORTNAME ORIGINCITYNAME  \\\n",
       "0  AlbuquerqueNM: Albuquerque International Sunport    Albuquerque   \n",
       "1  AlbuquerqueNM: Albuquerque International Sunport    Albuquerque   \n",
       "2  AlbuquerqueNM: Albuquerque International Sunport    Albuquerque   \n",
       "3  AlbuquerqueNM: Albuquerque International Sunport    Albuquerque   \n",
       "4  AlbuquerqueNM: Albuquerque International Sunport    Albuquerque   \n",
       "\n",
       "  ORIGINSTATE ORIGINSTATENAME DESTAIRPORTCODE  \\\n",
       "0          NM      New Mexico             DAL   \n",
       "1          NM      New Mexico             IAH   \n",
       "2          NM      New Mexico             MCI   \n",
       "3          NM      New Mexico             LAS   \n",
       "4          NM      New Mexico             IAH   \n",
       "\n",
       "                                   DESTAIRPORTNAME DESTCITYNAME DESTSTATE  \\\n",
       "0                      DallasTX: Dallas Love Field       Dallas        TX   \n",
       "1  HoustonTX: George Bush Intercontinental/Houston      Houston        TX   \n",
       "2         Kansas CityMO: Kansas City International  Kansas City        MO   \n",
       "3              Las VegasNV: McCarran International    Las Vegas        NV   \n",
       "4  HoustonTX: George Bush Intercontinental/Houston      Houston        TX   \n",
       "\n",
       "  DESTSTATENAME  CRSDEPTIME  DEPTIME  DEPDELAY  TAXIOUT  WHEELSOFF  WHEELSON  \\\n",
       "0         Texas        1425   1425.0       0.0      8.0     1433.0    1648.0   \n",
       "1         Texas        1130   1136.0       6.0     12.0     1148.0    1419.0   \n",
       "2      Missouri        1215   1338.0      83.0      7.0     1345.0    1618.0   \n",
       "3        Nevada        1925   1925.0       0.0      5.0     1930.0    1947.0   \n",
       "4         Texas        1455   1453.0      -2.0     11.0     1504.0    1742.0   \n",
       "\n",
       "   TAXIIN  CRSARRTIME  ARRTIME  ARRDELAY  CRSELAPSEDTIME  ACTUALELAPSEDTIME  \\\n",
       "0     4.0        1655   1652.0      -3.0            90.0               87.0   \n",
       "1    16.0        1426   1435.0       9.0           116.0              119.0   \n",
       "2     2.0        1500   1620.0      80.0           105.0              102.0   \n",
       "3     1.0        1950   1948.0      -2.0            85.0               83.0   \n",
       "4     5.0        1750   1747.0      -3.0           115.0              114.0   \n",
       "\n",
       "  CANCELLED DIVERTED   DISTANCE  \n",
       "0         F    False  580 miles  \n",
       "1     False        F  744 miles  \n",
       "2         F    False  718 miles  \n",
       "3         0        0  487 miles  \n",
       "4         F    False  744 miles  "
      ]
     },
     "execution_count": 4,
     "metadata": {},
     "output_type": "execute_result"
    }
   ],
   "source": [
    "df.head()"
   ]
  },
  {
   "cell_type": "code",
   "execution_count": 5,
   "id": "11a6b562",
   "metadata": {
    "scrolled": true
   },
   "outputs": [
    {
     "data": {
      "text/plain": [
       "Index(['TRANSACTIONID', 'FLIGHTDATE', 'AIRLINECODE', 'AIRLINENAME', 'TAILNUM',\n",
       "       'FLIGHTNUM', 'ORIGINAIRPORTCODE', 'ORIGAIRPORTNAME', 'ORIGINCITYNAME',\n",
       "       'ORIGINSTATE', 'ORIGINSTATENAME', 'DESTAIRPORTCODE', 'DESTAIRPORTNAME',\n",
       "       'DESTCITYNAME', 'DESTSTATE', 'DESTSTATENAME', 'CRSDEPTIME', 'DEPTIME',\n",
       "       'DEPDELAY', 'TAXIOUT', 'WHEELSOFF', 'WHEELSON', 'TAXIIN', 'CRSARRTIME',\n",
       "       'ARRTIME', 'ARRDELAY', 'CRSELAPSEDTIME', 'ACTUALELAPSEDTIME',\n",
       "       'CANCELLED', 'DIVERTED', 'DISTANCE'],\n",
       "      dtype='object')"
      ]
     },
     "execution_count": 5,
     "metadata": {},
     "output_type": "execute_result"
    }
   ],
   "source": [
    "df.columns"
   ]
  },
  {
   "cell_type": "code",
   "execution_count": 6,
   "id": "3c603ad0",
   "metadata": {},
   "outputs": [],
   "source": [
    "new_df=df.copy()"
   ]
  },
  {
   "cell_type": "code",
   "execution_count": 7,
   "id": "c5adff97",
   "metadata": {},
   "outputs": [],
   "source": [
    "col=['AIRLINECODE', 'TAILNUM', 'FLIGHTNUM', 'ORIGAIRPORTNAME',\n",
    "     'ORIGINSTATE', 'DESTAIRPORTNAME',\n",
    "    'DESTSTATE', 'CRSDEPTIME', 'DEPTIME', 'TAXIOUT', 'WHEELSOFF', \n",
    "     'WHEELSON', 'TAXIIN', 'CRSARRTIME','ARRTIME', 'CRSELAPSEDTIME']"
   ]
  },
  {
   "cell_type": "code",
   "execution_count": 8,
   "id": "70138761",
   "metadata": {},
   "outputs": [],
   "source": [
    "#drop some columns\n",
    "new_df=new_df.drop(columns=col)"
   ]
  },
  {
   "cell_type": "code",
   "execution_count": 9,
   "id": "dae3d847",
   "metadata": {
    "scrolled": true
   },
   "outputs": [
    {
     "data": {
      "text/html": [
       "<div>\n",
       "<style scoped>\n",
       "    .dataframe tbody tr th:only-of-type {\n",
       "        vertical-align: middle;\n",
       "    }\n",
       "\n",
       "    .dataframe tbody tr th {\n",
       "        vertical-align: top;\n",
       "    }\n",
       "\n",
       "    .dataframe thead th {\n",
       "        text-align: right;\n",
       "    }\n",
       "</style>\n",
       "<table border=\"1\" class=\"dataframe\">\n",
       "  <thead>\n",
       "    <tr style=\"text-align: right;\">\n",
       "      <th></th>\n",
       "      <th>TRANSACTIONID</th>\n",
       "      <th>FLIGHTDATE</th>\n",
       "      <th>AIRLINENAME</th>\n",
       "      <th>ORIGINAIRPORTCODE</th>\n",
       "      <th>ORIGINCITYNAME</th>\n",
       "      <th>ORIGINSTATENAME</th>\n",
       "      <th>DESTAIRPORTCODE</th>\n",
       "      <th>DESTCITYNAME</th>\n",
       "      <th>DESTSTATENAME</th>\n",
       "      <th>DEPDELAY</th>\n",
       "      <th>ARRDELAY</th>\n",
       "      <th>ACTUALELAPSEDTIME</th>\n",
       "      <th>CANCELLED</th>\n",
       "      <th>DIVERTED</th>\n",
       "      <th>DISTANCE</th>\n",
       "    </tr>\n",
       "  </thead>\n",
       "  <tbody>\n",
       "    <tr>\n",
       "      <th>0</th>\n",
       "      <td>54548800</td>\n",
       "      <td>20020101</td>\n",
       "      <td>Southwest Airlines Co.: WN</td>\n",
       "      <td>ABQ</td>\n",
       "      <td>Albuquerque</td>\n",
       "      <td>New Mexico</td>\n",
       "      <td>DAL</td>\n",
       "      <td>Dallas</td>\n",
       "      <td>Texas</td>\n",
       "      <td>0.0</td>\n",
       "      <td>-3.0</td>\n",
       "      <td>87.0</td>\n",
       "      <td>F</td>\n",
       "      <td>False</td>\n",
       "      <td>580 miles</td>\n",
       "    </tr>\n",
       "    <tr>\n",
       "      <th>1</th>\n",
       "      <td>55872300</td>\n",
       "      <td>20020101</td>\n",
       "      <td>Continental Air Lines Inc.: CO</td>\n",
       "      <td>ABQ</td>\n",
       "      <td>Albuquerque</td>\n",
       "      <td>New Mexico</td>\n",
       "      <td>IAH</td>\n",
       "      <td>Houston</td>\n",
       "      <td>Texas</td>\n",
       "      <td>6.0</td>\n",
       "      <td>9.0</td>\n",
       "      <td>119.0</td>\n",
       "      <td>False</td>\n",
       "      <td>F</td>\n",
       "      <td>744 miles</td>\n",
       "    </tr>\n",
       "    <tr>\n",
       "      <th>2</th>\n",
       "      <td>54388800</td>\n",
       "      <td>20020101</td>\n",
       "      <td>Southwest Airlines Co.: WN</td>\n",
       "      <td>ABQ</td>\n",
       "      <td>Albuquerque</td>\n",
       "      <td>New Mexico</td>\n",
       "      <td>MCI</td>\n",
       "      <td>Kansas City</td>\n",
       "      <td>Missouri</td>\n",
       "      <td>83.0</td>\n",
       "      <td>80.0</td>\n",
       "      <td>102.0</td>\n",
       "      <td>F</td>\n",
       "      <td>False</td>\n",
       "      <td>718 miles</td>\n",
       "    </tr>\n",
       "    <tr>\n",
       "      <th>3</th>\n",
       "      <td>54486500</td>\n",
       "      <td>20020101</td>\n",
       "      <td>Southwest Airlines Co.: WN</td>\n",
       "      <td>ABQ</td>\n",
       "      <td>Albuquerque</td>\n",
       "      <td>New Mexico</td>\n",
       "      <td>LAS</td>\n",
       "      <td>Las Vegas</td>\n",
       "      <td>Nevada</td>\n",
       "      <td>0.0</td>\n",
       "      <td>-2.0</td>\n",
       "      <td>83.0</td>\n",
       "      <td>0</td>\n",
       "      <td>0</td>\n",
       "      <td>487 miles</td>\n",
       "    </tr>\n",
       "    <tr>\n",
       "      <th>4</th>\n",
       "      <td>55878700</td>\n",
       "      <td>20020103</td>\n",
       "      <td>Continental Air Lines Inc.: CO</td>\n",
       "      <td>ABQ</td>\n",
       "      <td>Albuquerque</td>\n",
       "      <td>New Mexico</td>\n",
       "      <td>IAH</td>\n",
       "      <td>Houston</td>\n",
       "      <td>Texas</td>\n",
       "      <td>-2.0</td>\n",
       "      <td>-3.0</td>\n",
       "      <td>114.0</td>\n",
       "      <td>F</td>\n",
       "      <td>False</td>\n",
       "      <td>744 miles</td>\n",
       "    </tr>\n",
       "  </tbody>\n",
       "</table>\n",
       "</div>"
      ],
      "text/plain": [
       "   TRANSACTIONID  FLIGHTDATE                     AIRLINENAME  \\\n",
       "0       54548800    20020101      Southwest Airlines Co.: WN   \n",
       "1       55872300    20020101  Continental Air Lines Inc.: CO   \n",
       "2       54388800    20020101      Southwest Airlines Co.: WN   \n",
       "3       54486500    20020101      Southwest Airlines Co.: WN   \n",
       "4       55878700    20020103  Continental Air Lines Inc.: CO   \n",
       "\n",
       "  ORIGINAIRPORTCODE ORIGINCITYNAME ORIGINSTATENAME DESTAIRPORTCODE  \\\n",
       "0               ABQ    Albuquerque      New Mexico             DAL   \n",
       "1               ABQ    Albuquerque      New Mexico             IAH   \n",
       "2               ABQ    Albuquerque      New Mexico             MCI   \n",
       "3               ABQ    Albuquerque      New Mexico             LAS   \n",
       "4               ABQ    Albuquerque      New Mexico             IAH   \n",
       "\n",
       "  DESTCITYNAME DESTSTATENAME  DEPDELAY  ARRDELAY  ACTUALELAPSEDTIME CANCELLED  \\\n",
       "0       Dallas         Texas       0.0      -3.0               87.0         F   \n",
       "1      Houston         Texas       6.0       9.0              119.0     False   \n",
       "2  Kansas City      Missouri      83.0      80.0              102.0         F   \n",
       "3    Las Vegas        Nevada       0.0      -2.0               83.0         0   \n",
       "4      Houston         Texas      -2.0      -3.0              114.0         F   \n",
       "\n",
       "  DIVERTED   DISTANCE  \n",
       "0    False  580 miles  \n",
       "1        F  744 miles  \n",
       "2    False  718 miles  \n",
       "3        0  487 miles  \n",
       "4    False  744 miles  "
      ]
     },
     "execution_count": 9,
     "metadata": {},
     "output_type": "execute_result"
    }
   ],
   "source": [
    "new_df.head()"
   ]
  },
  {
   "cell_type": "code",
   "execution_count": 10,
   "id": "9acd4c04",
   "metadata": {
    "scrolled": true
   },
   "outputs": [
    {
     "name": "stdout",
     "output_type": "stream",
     "text": [
      "<class 'pandas.core.frame.DataFrame'>\n",
      "RangeIndex: 1191805 entries, 0 to 1191804\n",
      "Data columns (total 15 columns):\n",
      " #   Column             Non-Null Count    Dtype  \n",
      "---  ------             --------------    -----  \n",
      " 0   TRANSACTIONID      1191805 non-null  int64  \n",
      " 1   FLIGHTDATE         1191805 non-null  int64  \n",
      " 2   AIRLINENAME        1191805 non-null  object \n",
      " 3   ORIGINAIRPORTCODE  1191805 non-null  object \n",
      " 4   ORIGINCITYNAME     1191805 non-null  object \n",
      " 5   ORIGINSTATENAME    1180963 non-null  object \n",
      " 6   DESTAIRPORTCODE    1191805 non-null  object \n",
      " 7   DESTCITYNAME       1191805 non-null  object \n",
      " 8   DESTSTATENAME      1180967 non-null  object \n",
      " 9   DEPDELAY           1163470 non-null  float64\n",
      " 10  ARRDELAY           1160545 non-null  float64\n",
      " 11  ACTUALELAPSEDTIME  1160545 non-null  float64\n",
      " 12  CANCELLED          1191805 non-null  object \n",
      " 13  DIVERTED           1191805 non-null  object \n",
      " 14  DISTANCE           1191805 non-null  object \n",
      "dtypes: float64(3), int64(2), object(10)\n",
      "memory usage: 136.4+ MB\n"
     ]
    }
   ],
   "source": [
    "new_df.info()"
   ]
  },
  {
   "cell_type": "markdown",
   "id": "a8b8c901",
   "metadata": {},
   "source": [
    "# Data cleansing"
   ]
  },
  {
   "cell_type": "markdown",
   "id": "6463e5a7",
   "metadata": {},
   "source": [
    "## Change column's data type"
   ]
  },
  {
   "cell_type": "code",
   "execution_count": 11,
   "id": "53699fbb",
   "metadata": {
    "scrolled": false
   },
   "outputs": [
    {
     "data": {
      "text/plain": [
       "0         2002-01-01\n",
       "1         2002-01-01\n",
       "2         2002-01-01\n",
       "3         2002-01-01\n",
       "4         2002-01-03\n",
       "             ...    \n",
       "1191800   2013-01-06\n",
       "1191801   2013-01-06\n",
       "1191802   2013-01-06\n",
       "1191803   2013-01-06\n",
       "1191804   2013-01-06\n",
       "Name: FLIGHTDATE, Length: 1191805, dtype: datetime64[ns]"
      ]
     },
     "execution_count": 11,
     "metadata": {},
     "output_type": "execute_result"
    }
   ],
   "source": [
    "new_df['FLIGHTDATE']=pd.to_datetime(new_df['FLIGHTDATE'], format='%Y%m%d')\n",
    "new_df['FLIGHTDATE']"
   ]
  },
  {
   "cell_type": "markdown",
   "id": "63728099",
   "metadata": {},
   "source": [
    "## Replace inconsistent values"
   ]
  },
  {
   "cell_type": "code",
   "execution_count": 12,
   "id": "c53d3a7e",
   "metadata": {
    "scrolled": true
   },
   "outputs": [
    {
     "data": {
      "text/plain": [
       "array(['F', 'False', '0', '1', 'True', 'T'], dtype=object)"
      ]
     },
     "execution_count": 12,
     "metadata": {},
     "output_type": "execute_result"
    }
   ],
   "source": [
    "new_df['CANCELLED'].unique()"
   ]
  },
  {
   "cell_type": "code",
   "execution_count": 13,
   "id": "eccd8f5a",
   "metadata": {},
   "outputs": [
    {
     "data": {
      "text/plain": [
       "array(['False', 'F', '0', '1', 'True', 'T'], dtype=object)"
      ]
     },
     "execution_count": 13,
     "metadata": {},
     "output_type": "execute_result"
    }
   ],
   "source": [
    "new_df['DIVERTED'].unique()"
   ]
  },
  {
   "cell_type": "code",
   "execution_count": 14,
   "id": "a2623362",
   "metadata": {},
   "outputs": [
    {
     "data": {
      "text/plain": [
       "array(['F', 'T'], dtype=object)"
      ]
     },
     "execution_count": 14,
     "metadata": {},
     "output_type": "execute_result"
    }
   ],
   "source": [
    "# Replace False, 0 with F, replace True, 1 with T\n",
    "new_df.replace({'False':'F', 'True':'T'}, inplace=True)\n",
    "new_df.replace({'CANCELLED':'0', 'DIVERTED':'0'}, 'F', inplace=True)\n",
    "new_df.replace({'CANCELLED':'1', 'DIVERTED':'1'}, 'T', inplace=True)\n",
    "\n",
    "#check CANCELLED và DIVERTED\n",
    "new_df['CANCELLED'].unique()\n",
    "\n",
    "new_df['DIVERTED'].unique()"
   ]
  },
  {
   "cell_type": "markdown",
   "id": "eecc8f65",
   "metadata": {},
   "source": [
    "## Separate numbers from units of measurement"
   ]
  },
  {
   "cell_type": "code",
   "execution_count": 15,
   "id": "e5d375ff",
   "metadata": {
    "scrolled": true
   },
   "outputs": [
    {
     "data": {
      "text/plain": [
       "0          580\n",
       "1          744\n",
       "2          718\n",
       "3          487\n",
       "4          744\n",
       "          ... \n",
       "1191800    721\n",
       "1191801    731\n",
       "1191802    731\n",
       "1191803    508\n",
       "1191804    306\n",
       "Name: DISTANCE, Length: 1191805, dtype: object"
      ]
     },
     "execution_count": 15,
     "metadata": {},
     "output_type": "execute_result"
    }
   ],
   "source": [
    "#remove units of measurement\n",
    "new_df['DISTANCE']=new_df['DISTANCE'].map(lambda x: x.rstrip(' miles'))\n",
    "new_df['DISTANCE']"
   ]
  },
  {
   "cell_type": "code",
   "execution_count": 16,
   "id": "49a113a8",
   "metadata": {},
   "outputs": [
    {
     "data": {
      "text/plain": [
       "0          580\n",
       "1          744\n",
       "2          718\n",
       "3          487\n",
       "4          744\n",
       "          ... \n",
       "1191800    721\n",
       "1191801    731\n",
       "1191802    731\n",
       "1191803    508\n",
       "1191804    306\n",
       "Name: DISTANCE, Length: 1191805, dtype: int64"
      ]
     },
     "execution_count": 16,
     "metadata": {},
     "output_type": "execute_result"
    }
   ],
   "source": [
    "#change data type of DISTANCE\n",
    "new_df['DISTANCE']=pd.to_numeric(new_df['DISTANCE'])\n",
    "new_df['DISTANCE']"
   ]
  },
  {
   "cell_type": "markdown",
   "id": "8910d22e",
   "metadata": {},
   "source": [
    "## Handle missing values"
   ]
  },
  {
   "cell_type": "code",
   "execution_count": 17,
   "id": "1e256ab8",
   "metadata": {
    "scrolled": true
   },
   "outputs": [
    {
     "name": "stdout",
     "output_type": "stream",
     "text": [
      "<class 'pandas.core.frame.DataFrame'>\n",
      "RangeIndex: 1191805 entries, 0 to 1191804\n",
      "Data columns (total 15 columns):\n",
      " #   Column             Non-Null Count    Dtype         \n",
      "---  ------             --------------    -----         \n",
      " 0   TRANSACTIONID      1191805 non-null  int64         \n",
      " 1   FLIGHTDATE         1191805 non-null  datetime64[ns]\n",
      " 2   AIRLINENAME        1191805 non-null  object        \n",
      " 3   ORIGINAIRPORTCODE  1191805 non-null  object        \n",
      " 4   ORIGINCITYNAME     1191805 non-null  object        \n",
      " 5   ORIGINSTATENAME    1180963 non-null  object        \n",
      " 6   DESTAIRPORTCODE    1191805 non-null  object        \n",
      " 7   DESTCITYNAME       1191805 non-null  object        \n",
      " 8   DESTSTATENAME      1180967 non-null  object        \n",
      " 9   DEPDELAY           1163470 non-null  float64       \n",
      " 10  ARRDELAY           1160545 non-null  float64       \n",
      " 11  ACTUALELAPSEDTIME  1160545 non-null  float64       \n",
      " 12  CANCELLED          1191805 non-null  object        \n",
      " 13  DIVERTED           1191805 non-null  object        \n",
      " 14  DISTANCE           1191805 non-null  int64         \n",
      "dtypes: datetime64[ns](1), float64(3), int64(2), object(9)\n",
      "memory usage: 136.4+ MB\n"
     ]
    }
   ],
   "source": [
    "new_df.info()"
   ]
  },
  {
   "cell_type": "markdown",
   "id": "9845165f",
   "metadata": {},
   "source": [
    "the above shows that there are 5 columns that include missing value: ORIGINSTATENAME, DESTSTATENAME,DEPDELAY,ARRDELAY,ACTUALELAPSEDTIME"
   ]
  },
  {
   "cell_type": "markdown",
   "id": "9c5b15ac",
   "metadata": {},
   "source": [
    "### Fill missing values in column ORIGINSTATENAME\n",
    "Each airport has only one airportcode and is in only one state. \n",
    "So we can use the ORIGINAIRPORTCODE to fill null values in column ORIGINSTATENAME."
   ]
  },
  {
   "cell_type": "code",
   "execution_count": 18,
   "id": "6fceae3c",
   "metadata": {},
   "outputs": [
    {
     "data": {
      "text/plain": [
       "array(['LAW', 'MHK', 'HYS', 'OKC', 'FOE', 'TUL', 'ICT', 'GCK'],\n",
       "      dtype=object)"
      ]
     },
     "execution_count": 18,
     "metadata": {},
     "output_type": "execute_result"
    }
   ],
   "source": [
    "#list all ORIGINAIRPORTCODEs of rows that have null ORIGINSTATENAMEs \n",
    "new_df.loc[new_df['ORIGINSTATENAME'].isnull(), 'ORIGINAIRPORTCODE'].unique()"
   ]
  },
  {
   "cell_type": "code",
   "execution_count": 19,
   "id": "db8fbdc4",
   "metadata": {},
   "outputs": [],
   "source": [
    "aircode_state_dict = {\n",
    "'LAW' : 'Oklahoma', 'MHK' : 'Kansas',\n",
    "'HYS' : 'Kansas', 'OKC' : 'Oklahoma',\n",
    "'FOE' : 'Kansas', 'TUL' : 'Oklahoma',\n",
    "'ICT' : 'Kansas', 'GCK' : 'Kansas'\n",
    "}"
   ]
  },
  {
   "cell_type": "code",
   "execution_count": 20,
   "id": "95d15448",
   "metadata": {},
   "outputs": [
    {
     "data": {
      "text/plain": [
       "0"
      ]
     },
     "execution_count": 20,
     "metadata": {},
     "output_type": "execute_result"
    }
   ],
   "source": [
    "#use fillna() and map() function to deal with missing value in ORIGINSTATENAME\n",
    "new_df['ORIGINSTATENAME'] = new_df['ORIGINSTATENAME'].fillna(new_df['ORIGINAIRPORTCODE'].map(aircode_state_dict))\n",
    "new_df['ORIGINSTATENAME'].isnull().sum()"
   ]
  },
  {
   "cell_type": "markdown",
   "id": "5942ff18",
   "metadata": {},
   "source": [
    "### Fill missing values in column DESTSTATENAME"
   ]
  },
  {
   "cell_type": "code",
   "execution_count": 21,
   "id": "80a7eef2",
   "metadata": {},
   "outputs": [
    {
     "data": {
      "text/plain": [
       "array(['OKC', 'TUL', 'ICT', 'LAW', 'MHK', 'FOE', 'GCK', 'HYS'],\n",
       "      dtype=object)"
      ]
     },
     "execution_count": 21,
     "metadata": {},
     "output_type": "execute_result"
    }
   ],
   "source": [
    "#list all DESTAIRPORTCODEs of rows that have null DESTSTATENAMEs \n",
    "new_df.loc[new_df['DESTSTATENAME'].isnull(), 'DESTAIRPORTCODE'].unique()"
   ]
  },
  {
   "cell_type": "code",
   "execution_count": 22,
   "id": "4c2d7835",
   "metadata": {},
   "outputs": [],
   "source": [
    "aircode_deststate_dict = {\n",
    "'OKC' : \"Oklahoma\", 'TUL' : \"Oklahoma\",\n",
    "'ICT' : \"Kansas\", 'LAW' : \"Oklahoma\",    \n",
    "'MHK' : \"Kansas\", 'FOE' : \"Kansas\",  \n",
    "'GCK' : \"Kansas\", 'HYS' : \"Kansas\"\n",
    "}"
   ]
  },
  {
   "cell_type": "code",
   "execution_count": 23,
   "id": "36395f3a",
   "metadata": {},
   "outputs": [
    {
     "data": {
      "text/plain": [
       "0"
      ]
     },
     "execution_count": 23,
     "metadata": {},
     "output_type": "execute_result"
    }
   ],
   "source": [
    "#use fillna() and map() function to deal with missing value in DESTSTATENAME\n",
    "new_df['DESTSTATENAME'] = new_df['DESTSTATENAME'].fillna(new_df['DESTAIRPORTCODE'].map(aircode_state_dict))\n",
    "new_df['DESTSTATENAME'].isnull().sum()"
   ]
  },
  {
   "cell_type": "markdown",
   "id": "00f8b596",
   "metadata": {},
   "source": [
    "### Fill missing values in column DEPDELAY"
   ]
  },
  {
   "cell_type": "code",
   "execution_count": 24,
   "id": "404529fe",
   "metadata": {},
   "outputs": [
    {
     "data": {
      "text/plain": [
       "28335"
      ]
     },
     "execution_count": 24,
     "metadata": {},
     "output_type": "execute_result"
    }
   ],
   "source": [
    "#how many null values are there in DEPDELAY?\n",
    "new_df['DEPDELAY'].isnull().sum()"
   ]
  },
  {
   "cell_type": "code",
   "execution_count": 25,
   "id": "64ad497b",
   "metadata": {},
   "outputs": [],
   "source": [
    "#If a flight was cancelled, then DEPDELAY time is 0\n",
    "new_df.loc[new_df['CANCELLED']=='T', 'DEPDELAY']=0"
   ]
  },
  {
   "cell_type": "code",
   "execution_count": 26,
   "id": "5a77b1a6",
   "metadata": {},
   "outputs": [
    {
     "data": {
      "text/plain": [
       "0"
      ]
     },
     "execution_count": 26,
     "metadata": {},
     "output_type": "execute_result"
    }
   ],
   "source": [
    "new_df['DEPDELAY'].isnull().sum()"
   ]
  },
  {
   "cell_type": "markdown",
   "id": "daf038d1",
   "metadata": {},
   "source": [
    "We can see that all null DEPDELAY values was caused by cancellation. Now all of them are replaced with 0. But if there is some other\n",
    "reason causing null values in DEPDELAY, we can handle with these missing values as follows:"
   ]
  },
  {
   "cell_type": "code",
   "execution_count": 27,
   "id": "03f44db2",
   "metadata": {
    "scrolled": true
   },
   "outputs": [
    {
     "name": "stderr",
     "output_type": "stream",
     "text": [
      "/tmp/ipykernel_204/2768649441.py:2: FutureWarning: Indexing with multiple keys (implicitly converted to a tuple of keys) will be deprecated, use a list instead.\n",
      "  depDelay_dict = new_df.groupby('AIRLINENAME')['AIRLINENAME','DEPDELAY'].mean().round(2).to_dict()['DEPDELAY']\n"
     ]
    },
    {
     "data": {
      "text/plain": [
       "{'ATA Airlines d/b/a ATA: TZ': 4.05,\n",
       " 'AirTran Airways Corporation: FL': 4.67,\n",
       " 'Alaska Airlines Inc.: AS': 4.02,\n",
       " 'Aloha Airlines Inc.: AQ': 0.7,\n",
       " 'America West Airlines Inc.: HP (Merged with US Airways 9/05.Stopped reporting 10/07.)': 7.77,\n",
       " 'American Airlines Inc.: AA': 7.16,\n",
       " 'Comair Inc.: OH (1)': 8.83,\n",
       " 'Continental Air Lines Inc.: CO': 6.22,\n",
       " 'Delta Air Lines Inc.: DL': 6.76,\n",
       " 'Endeavor Air Inc.: 9E': 4.46,\n",
       " 'Envoy Air: MQ': 7.4,\n",
       " 'ExpressJet Airlines Inc. (1): XE': 5.56,\n",
       " 'ExpressJet Airlines Inc.: EV': 10.2,\n",
       " 'Frontier Airlines Inc.: F9': 9.1,\n",
       " 'Hawaiian Airlines Inc.: HA': -0.74,\n",
       " 'Independence Air: DH': 10.94,\n",
       " 'JetBlue Airways: B6': 8.3,\n",
       " 'Mesa Airlines Inc.: YV': 5.15,\n",
       " 'Northwest Airlines Inc.: NW': 4.89,\n",
       " 'SkyWest Airlines Inc.: OO': 5.93,\n",
       " 'Southwest Airlines Co.: WN': 8.63,\n",
       " 'Spirit Air Lines: NK': 14.3,\n",
       " 'Trans World Airways LLC: TW': 7.91,\n",
       " 'US Airways Inc.: US (Merged with America West 9/05. Reporting for both starting 10/07.)': 5.54,\n",
       " 'United Air Lines Inc.: UA': 8.57,\n",
       " 'Virgin America: VX': 8.31}"
      ]
     },
     "execution_count": 27,
     "metadata": {},
     "output_type": "execute_result"
    }
   ],
   "source": [
    "#Replace the rest of null DEPDELAY values with the mean values of the corresponding airlines\n",
    "depDelay_dict = new_df.groupby('AIRLINENAME')['AIRLINENAME','DEPDELAY'].mean().round(2).to_dict()['DEPDELAY']\n",
    "depDelay_dict"
   ]
  },
  {
   "cell_type": "code",
   "execution_count": 28,
   "id": "d421f5de",
   "metadata": {},
   "outputs": [],
   "source": [
    "new_df['DEPDELAY']=new_df['DEPDELAY'].fillna(new_df['AIRLINENAME'].map(depDelay_dict))"
   ]
  },
  {
   "cell_type": "markdown",
   "id": "5685baca",
   "metadata": {},
   "source": [
    "### Fill missing values in column ARRDELAY\n",
    "Replace null ARRDELAY values with the mean values of ARRDELAY of the corresponding airlines"
   ]
  },
  {
   "cell_type": "code",
   "execution_count": 29,
   "id": "d2021d8c",
   "metadata": {},
   "outputs": [
    {
     "data": {
      "text/plain": [
       "31260"
      ]
     },
     "execution_count": 29,
     "metadata": {},
     "output_type": "execute_result"
    }
   ],
   "source": [
    "#how many null values are there in ARRDELAY?\n",
    "new_df['ARRDELAY'].isnull().sum()"
   ]
  },
  {
   "cell_type": "code",
   "execution_count": 30,
   "id": "6f976b47",
   "metadata": {},
   "outputs": [],
   "source": [
    "#If a flight was cancelled, then ARRDELAY time is 0\n",
    "new_df.loc[new_df['CANCELLED']=='T', 'ARRDELAY']=0"
   ]
  },
  {
   "cell_type": "code",
   "execution_count": 31,
   "id": "3e4d3725",
   "metadata": {},
   "outputs": [
    {
     "data": {
      "text/plain": [
       "2646"
      ]
     },
     "execution_count": 31,
     "metadata": {},
     "output_type": "execute_result"
    }
   ],
   "source": [
    "new_df['ARRDELAY'].isnull().sum()"
   ]
  },
  {
   "cell_type": "code",
   "execution_count": 32,
   "id": "05e34fd7",
   "metadata": {},
   "outputs": [
    {
     "name": "stderr",
     "output_type": "stream",
     "text": [
      "/tmp/ipykernel_204/387324348.py:2: FutureWarning: Indexing with multiple keys (implicitly converted to a tuple of keys) will be deprecated, use a list instead.\n",
      "  arrDelay_dict = new_df.groupby('AIRLINENAME')['AIRLINENAME','ARRDELAY'].mean().round(2).to_dict()['ARRDELAY']\n"
     ]
    },
    {
     "data": {
      "text/plain": [
       "{'ATA Airlines d/b/a ATA: TZ': 4.78,\n",
       " 'AirTran Airways Corporation: FL': 2.4,\n",
       " 'Alaska Airlines Inc.: AS': 2.99,\n",
       " 'Aloha Airlines Inc.: AQ': 1.26,\n",
       " 'America West Airlines Inc.: HP (Merged with US Airways 9/05.Stopped reporting 10/07.)': 7.19,\n",
       " 'American Airlines Inc.: AA': 4.67,\n",
       " 'Comair Inc.: OH (1)': 6.92,\n",
       " 'Continental Air Lines Inc.: CO': 5.3,\n",
       " 'Delta Air Lines Inc.: DL': 4.66,\n",
       " 'Endeavor Air Inc.: 9E': 1.69,\n",
       " 'Envoy Air: MQ': 5.96,\n",
       " 'ExpressJet Airlines Inc. (1): XE': 5.5,\n",
       " 'ExpressJet Airlines Inc.: EV': 6.96,\n",
       " 'Frontier Airlines Inc.: F9': 8.08,\n",
       " 'Hawaiian Airlines Inc.: HA': -0.12,\n",
       " 'Independence Air: DH': 8.15,\n",
       " 'JetBlue Airways: B6': 4.21,\n",
       " 'Mesa Airlines Inc.: YV': 3.44,\n",
       " 'Northwest Airlines Inc.: NW': 3.64,\n",
       " 'SkyWest Airlines Inc.: OO': 3.92,\n",
       " 'Southwest Airlines Co.: WN': 4.07,\n",
       " 'Spirit Air Lines: NK': 12.6,\n",
       " 'Trans World Airways LLC: TW': 6.52,\n",
       " 'US Airways Inc.: US (Merged with America West 9/05. Reporting for both starting 10/07.)': 4.15,\n",
       " 'United Air Lines Inc.: UA': 5.54,\n",
       " 'Virgin America: VX': 3.35}"
      ]
     },
     "execution_count": 32,
     "metadata": {},
     "output_type": "execute_result"
    }
   ],
   "source": [
    "#Replace null ARRDELAY values with the mean values of ARRDELAY of the corresponding airlines\n",
    "arrDelay_dict = new_df.groupby('AIRLINENAME')['AIRLINENAME','ARRDELAY'].mean().round(2).to_dict()['ARRDELAY']\n",
    "arrDelay_dict"
   ]
  },
  {
   "cell_type": "code",
   "execution_count": 33,
   "id": "042a4c44",
   "metadata": {},
   "outputs": [
    {
     "data": {
      "text/plain": [
       "0"
      ]
     },
     "execution_count": 33,
     "metadata": {},
     "output_type": "execute_result"
    }
   ],
   "source": [
    "new_df['ARRDELAY']=new_df['ARRDELAY'].fillna(new_df['AIRLINENAME'].map(depDelay_dict))\n",
    "new_df['ARRDELAY'].isnull().sum()"
   ]
  },
  {
   "cell_type": "markdown",
   "id": "6e6bb2d7",
   "metadata": {},
   "source": [
    "### Fill missing values in column ACTUALELAPSEDTIME"
   ]
  },
  {
   "cell_type": "code",
   "execution_count": 34,
   "id": "5acc2571",
   "metadata": {},
   "outputs": [
    {
     "data": {
      "text/plain": [
       "31260"
      ]
     },
     "execution_count": 34,
     "metadata": {},
     "output_type": "execute_result"
    }
   ],
   "source": [
    "#how many null values are there in ACTUALELAPSEDTIME?\n",
    "new_df['ACTUALELAPSEDTIME'].isnull().sum()"
   ]
  },
  {
   "cell_type": "code",
   "execution_count": 35,
   "id": "52d32a42",
   "metadata": {},
   "outputs": [],
   "source": [
    "#If a flight was cancelled, then ACTUALELAPSEDTIME time is 0\n",
    "new_df.loc[new_df['CANCELLED']=='T', 'ACTUALELAPSEDTIME']=0"
   ]
  },
  {
   "cell_type": "code",
   "execution_count": 36,
   "id": "5b34cb3e",
   "metadata": {},
   "outputs": [
    {
     "data": {
      "text/plain": [
       "2646"
      ]
     },
     "execution_count": 36,
     "metadata": {},
     "output_type": "execute_result"
    }
   ],
   "source": [
    "new_df['ACTUALELAPSEDTIME'].isnull().sum()"
   ]
  },
  {
   "cell_type": "code",
   "execution_count": 37,
   "id": "40cd79ba",
   "metadata": {},
   "outputs": [
    {
     "name": "stderr",
     "output_type": "stream",
     "text": [
      "/tmp/ipykernel_204/4151246971.py:2: FutureWarning: Indexing with multiple keys (implicitly converted to a tuple of keys) will be deprecated, use a list instead.\n",
      "  elapDelay_dict = new_df.groupby('AIRLINENAME')['AIRLINENAME','ACTUALELAPSEDTIME'].mean().round(2).to_dict()['ACTUALELAPSEDTIME']\n"
     ]
    },
    {
     "data": {
      "text/plain": [
       "{'ATA Airlines d/b/a ATA: TZ': 171.35,\n",
       " 'AirTran Airways Corporation: FL': 120.93,\n",
       " 'Alaska Airlines Inc.: AS': 137.19,\n",
       " 'Aloha Airlines Inc.: AQ': 46.59,\n",
       " 'America West Airlines Inc.: HP (Merged with US Airways 9/05.Stopped reporting 10/07.)': 127.99,\n",
       " 'American Airlines Inc.: AA': 155.03,\n",
       " 'Comair Inc.: OH (1)': 99.47,\n",
       " 'Continental Air Lines Inc.: CO': 147.81,\n",
       " 'Delta Air Lines Inc.: DL': 126.56,\n",
       " 'Endeavor Air Inc.: 9E': 90.85,\n",
       " 'Envoy Air: MQ': 85.49,\n",
       " 'ExpressJet Airlines Inc. (1): XE': 102.12,\n",
       " 'ExpressJet Airlines Inc.: EV': 90.07,\n",
       " 'Frontier Airlines Inc.: F9': 146.0,\n",
       " 'Hawaiian Airlines Inc.: HA': 92.51,\n",
       " 'Independence Air: DH': 81.37,\n",
       " 'JetBlue Airways: B6': 166.65,\n",
       " 'Mesa Airlines Inc.: YV': 87.1,\n",
       " 'Northwest Airlines Inc.: NW': 118.97,\n",
       " 'SkyWest Airlines Inc.: OO': 89.74,\n",
       " 'Southwest Airlines Co.: WN': 95.88,\n",
       " 'Spirit Air Lines: NK': 153.1,\n",
       " 'Trans World Airways LLC: TW': 123.38,\n",
       " 'US Airways Inc.: US (Merged with America West 9/05. Reporting for both starting 10/07.)': 110.36,\n",
       " 'United Air Lines Inc.: UA': 150.78,\n",
       " 'Virgin America: VX': 211.08}"
      ]
     },
     "execution_count": 37,
     "metadata": {},
     "output_type": "execute_result"
    }
   ],
   "source": [
    "#Replace null ACTUALELAPSEDTIME values with the mean values of ACTUALELAPSEDTIME of the corresponding airlines\n",
    "elapDelay_dict = new_df.groupby('AIRLINENAME')['AIRLINENAME','ACTUALELAPSEDTIME'].mean().round(2).to_dict()['ACTUALELAPSEDTIME']\n",
    "elapDelay_dict"
   ]
  },
  {
   "cell_type": "code",
   "execution_count": 38,
   "id": "3c3e7cba",
   "metadata": {},
   "outputs": [
    {
     "data": {
      "text/plain": [
       "0"
      ]
     },
     "execution_count": 38,
     "metadata": {},
     "output_type": "execute_result"
    }
   ],
   "source": [
    "new_df['ACTUALELAPSEDTIME']=new_df['ACTUALELAPSEDTIME'].fillna(new_df['AIRLINENAME'].map(depDelay_dict))\n",
    "new_df['ACTUALELAPSEDTIME'].isnull().sum()"
   ]
  },
  {
   "cell_type": "code",
   "execution_count": 39,
   "id": "81bf5989",
   "metadata": {},
   "outputs": [
    {
     "name": "stdout",
     "output_type": "stream",
     "text": [
      "<class 'pandas.core.frame.DataFrame'>\n",
      "RangeIndex: 1191805 entries, 0 to 1191804\n",
      "Data columns (total 15 columns):\n",
      " #   Column             Non-Null Count    Dtype         \n",
      "---  ------             --------------    -----         \n",
      " 0   TRANSACTIONID      1191805 non-null  int64         \n",
      " 1   FLIGHTDATE         1191805 non-null  datetime64[ns]\n",
      " 2   AIRLINENAME        1191805 non-null  object        \n",
      " 3   ORIGINAIRPORTCODE  1191805 non-null  object        \n",
      " 4   ORIGINCITYNAME     1191805 non-null  object        \n",
      " 5   ORIGINSTATENAME    1191805 non-null  object        \n",
      " 6   DESTAIRPORTCODE    1191805 non-null  object        \n",
      " 7   DESTCITYNAME       1191805 non-null  object        \n",
      " 8   DESTSTATENAME      1191805 non-null  object        \n",
      " 9   DEPDELAY           1191805 non-null  float64       \n",
      " 10  ARRDELAY           1191805 non-null  float64       \n",
      " 11  ACTUALELAPSEDTIME  1191805 non-null  float64       \n",
      " 12  CANCELLED          1191805 non-null  object        \n",
      " 13  DIVERTED           1191805 non-null  object        \n",
      " 14  DISTANCE           1191805 non-null  int64         \n",
      "dtypes: datetime64[ns](1), float64(3), int64(2), object(9)\n",
      "memory usage: 136.4+ MB\n"
     ]
    }
   ],
   "source": [
    "new_df.info()"
   ]
  },
  {
   "cell_type": "markdown",
   "id": "f46daeca",
   "metadata": {},
   "source": [
    "## Create some new columns showing the status of arrival delay and departure delay"
   ]
  },
  {
   "cell_type": "markdown",
   "id": "578d412c",
   "metadata": {},
   "source": [
    "### create ARRSTATUS showing the status of arrival delay"
   ]
  },
  {
   "cell_type": "code",
   "execution_count": 40,
   "id": "b8a1d2de",
   "metadata": {},
   "outputs": [
    {
     "data": {
      "text/plain": [
       "1473.0"
      ]
     },
     "execution_count": 40,
     "metadata": {},
     "output_type": "execute_result"
    }
   ],
   "source": [
    "new_df['ARRDELAY'].max()"
   ]
  },
  {
   "cell_type": "code",
   "execution_count": 41,
   "id": "5b7a1be9",
   "metadata": {},
   "outputs": [
    {
     "data": {
      "text/plain": [
       "-95.0"
      ]
     },
     "execution_count": 41,
     "metadata": {},
     "output_type": "execute_result"
    }
   ],
   "source": [
    "new_df['ARRDELAY'].min()"
   ]
  },
  {
   "cell_type": "code",
   "execution_count": 42,
   "id": "25937b37",
   "metadata": {},
   "outputs": [],
   "source": [
    "new_df.loc[new_df['ARRDELAY'] <=15 , 'ARRSTATUS']='on time'\n",
    "new_df.loc[new_df['ARRDELAY'] > 15, 'ARRSTATUS']='a bit late'\n",
    "new_df.loc[new_df['ARRDELAY'] <=60, 'ARRSTATUS']='a bit late'\n",
    "new_df.loc[new_df['ARRDELAY'] >60, 'ARRSTATUS']='very late'\n",
    "new_df.loc[(new_df['ARRDELAY'] ==0) & (new_df['CANCELLED']=='T'), 'ARRSTATUS']='cancelled'\n",
    "new_df.loc[(new_df['ARRDELAY'] ==0) & (new_df['CANCELLED']=='F'), 'ARRSTATUS']='on time'"
   ]
  },
  {
   "cell_type": "code",
   "execution_count": 43,
   "id": "217c2a2e",
   "metadata": {},
   "outputs": [
    {
     "data": {
      "text/plain": [
       "a bit late    1068872\n",
       "very late       50694\n",
       "on time         43625\n",
       "cancelled       28614\n",
       "Name: ARRSTATUS, dtype: int64"
      ]
     },
     "execution_count": 43,
     "metadata": {},
     "output_type": "execute_result"
    }
   ],
   "source": [
    "new_df['ARRSTATUS'].value_counts()"
   ]
  },
  {
   "cell_type": "code",
   "execution_count": 44,
   "id": "34a8d3ab",
   "metadata": {},
   "outputs": [
    {
     "data": {
      "text/plain": [
       "F    1163191\n",
       "T      28614\n",
       "Name: CANCELLED, dtype: int64"
      ]
     },
     "execution_count": 44,
     "metadata": {},
     "output_type": "execute_result"
    }
   ],
   "source": [
    "new_df['CANCELLED'].value_counts()"
   ]
  },
  {
   "cell_type": "markdown",
   "id": "e41c78ca",
   "metadata": {},
   "source": [
    "### create DEPSTATUS showing the status of departure delay"
   ]
  },
  {
   "cell_type": "code",
   "execution_count": 45,
   "id": "b254e298",
   "metadata": {},
   "outputs": [
    {
     "data": {
      "text/plain": [
       "1477.0"
      ]
     },
     "execution_count": 45,
     "metadata": {},
     "output_type": "execute_result"
    }
   ],
   "source": [
    "new_df['DEPDELAY'].max()"
   ]
  },
  {
   "cell_type": "code",
   "execution_count": 46,
   "id": "cbf05ed9",
   "metadata": {},
   "outputs": [
    {
     "data": {
      "text/plain": [
       "-120.0"
      ]
     },
     "execution_count": 46,
     "metadata": {},
     "output_type": "execute_result"
    }
   ],
   "source": [
    "new_df['DEPDELAY'].min()"
   ]
  },
  {
   "cell_type": "code",
   "execution_count": 47,
   "id": "157c00e0",
   "metadata": {},
   "outputs": [],
   "source": [
    "new_df.loc[new_df['DEPDELAY'] <=15 , 'DEPSTATUS']='on time'\n",
    "new_df.loc[new_df['DEPDELAY'] > 15, 'DEPSTATUS']='a bit late'\n",
    "new_df.loc[new_df['DEPDELAY'] <=60, 'DEPSTATUS']='a bit late'\n",
    "new_df.loc[new_df['DEPDELAY'] >60, 'DEPSTATUS']='very late'\n",
    "new_df.loc[(new_df['DEPDELAY'] ==0) & (new_df['CANCELLED']=='T'), 'DEPSTATUS']='cancelled'\n",
    "new_df.loc[(new_df['DEPDELAY'] ==0) & (new_df['CANCELLED']=='F'), 'DEPSTATUS']='on time'"
   ]
  },
  {
   "cell_type": "code",
   "execution_count": 48,
   "id": "0056eab0",
   "metadata": {},
   "outputs": [
    {
     "data": {
      "text/plain": [
       "a bit late    929239\n",
       "on time       187365\n",
       "very late      46587\n",
       "cancelled      28614\n",
       "Name: DEPSTATUS, dtype: int64"
      ]
     },
     "execution_count": 48,
     "metadata": {},
     "output_type": "execute_result"
    }
   ],
   "source": [
    "new_df['DEPSTATUS'].value_counts()"
   ]
  },
  {
   "cell_type": "markdown",
   "id": "f5d4d1bf",
   "metadata": {},
   "source": [
    "## Explore data"
   ]
  },
  {
   "cell_type": "code",
   "execution_count": 49,
   "id": "6becffb5",
   "metadata": {},
   "outputs": [
    {
     "data": {
      "text/html": [
       "<div>\n",
       "<style scoped>\n",
       "    .dataframe tbody tr th:only-of-type {\n",
       "        vertical-align: middle;\n",
       "    }\n",
       "\n",
       "    .dataframe tbody tr th {\n",
       "        vertical-align: top;\n",
       "    }\n",
       "\n",
       "    .dataframe thead th {\n",
       "        text-align: right;\n",
       "    }\n",
       "</style>\n",
       "<table border=\"1\" class=\"dataframe\">\n",
       "  <thead>\n",
       "    <tr style=\"text-align: right;\">\n",
       "      <th></th>\n",
       "      <th>TRANSACTIONID</th>\n",
       "      <th>FLIGHTDATE</th>\n",
       "      <th>AIRLINENAME</th>\n",
       "      <th>ORIGINAIRPORTCODE</th>\n",
       "      <th>ORIGINCITYNAME</th>\n",
       "      <th>ORIGINSTATENAME</th>\n",
       "      <th>DESTAIRPORTCODE</th>\n",
       "      <th>DESTCITYNAME</th>\n",
       "      <th>DESTSTATENAME</th>\n",
       "      <th>DEPDELAY</th>\n",
       "      <th>ARRDELAY</th>\n",
       "      <th>ACTUALELAPSEDTIME</th>\n",
       "      <th>CANCELLED</th>\n",
       "      <th>DIVERTED</th>\n",
       "      <th>DISTANCE</th>\n",
       "      <th>ARRSTATUS</th>\n",
       "      <th>DEPSTATUS</th>\n",
       "    </tr>\n",
       "  </thead>\n",
       "  <tbody>\n",
       "    <tr>\n",
       "      <th>0</th>\n",
       "      <td>54548800</td>\n",
       "      <td>2002-01-01</td>\n",
       "      <td>Southwest Airlines Co.: WN</td>\n",
       "      <td>ABQ</td>\n",
       "      <td>Albuquerque</td>\n",
       "      <td>New Mexico</td>\n",
       "      <td>DAL</td>\n",
       "      <td>Dallas</td>\n",
       "      <td>Texas</td>\n",
       "      <td>0.0</td>\n",
       "      <td>-3.0</td>\n",
       "      <td>87.0</td>\n",
       "      <td>F</td>\n",
       "      <td>F</td>\n",
       "      <td>580</td>\n",
       "      <td>a bit late</td>\n",
       "      <td>on time</td>\n",
       "    </tr>\n",
       "    <tr>\n",
       "      <th>1</th>\n",
       "      <td>55872300</td>\n",
       "      <td>2002-01-01</td>\n",
       "      <td>Continental Air Lines Inc.: CO</td>\n",
       "      <td>ABQ</td>\n",
       "      <td>Albuquerque</td>\n",
       "      <td>New Mexico</td>\n",
       "      <td>IAH</td>\n",
       "      <td>Houston</td>\n",
       "      <td>Texas</td>\n",
       "      <td>6.0</td>\n",
       "      <td>9.0</td>\n",
       "      <td>119.0</td>\n",
       "      <td>F</td>\n",
       "      <td>F</td>\n",
       "      <td>744</td>\n",
       "      <td>a bit late</td>\n",
       "      <td>a bit late</td>\n",
       "    </tr>\n",
       "    <tr>\n",
       "      <th>2</th>\n",
       "      <td>54388800</td>\n",
       "      <td>2002-01-01</td>\n",
       "      <td>Southwest Airlines Co.: WN</td>\n",
       "      <td>ABQ</td>\n",
       "      <td>Albuquerque</td>\n",
       "      <td>New Mexico</td>\n",
       "      <td>MCI</td>\n",
       "      <td>Kansas City</td>\n",
       "      <td>Missouri</td>\n",
       "      <td>83.0</td>\n",
       "      <td>80.0</td>\n",
       "      <td>102.0</td>\n",
       "      <td>F</td>\n",
       "      <td>F</td>\n",
       "      <td>718</td>\n",
       "      <td>very late</td>\n",
       "      <td>very late</td>\n",
       "    </tr>\n",
       "    <tr>\n",
       "      <th>3</th>\n",
       "      <td>54486500</td>\n",
       "      <td>2002-01-01</td>\n",
       "      <td>Southwest Airlines Co.: WN</td>\n",
       "      <td>ABQ</td>\n",
       "      <td>Albuquerque</td>\n",
       "      <td>New Mexico</td>\n",
       "      <td>LAS</td>\n",
       "      <td>Las Vegas</td>\n",
       "      <td>Nevada</td>\n",
       "      <td>0.0</td>\n",
       "      <td>-2.0</td>\n",
       "      <td>83.0</td>\n",
       "      <td>F</td>\n",
       "      <td>F</td>\n",
       "      <td>487</td>\n",
       "      <td>a bit late</td>\n",
       "      <td>on time</td>\n",
       "    </tr>\n",
       "    <tr>\n",
       "      <th>4</th>\n",
       "      <td>55878700</td>\n",
       "      <td>2002-01-03</td>\n",
       "      <td>Continental Air Lines Inc.: CO</td>\n",
       "      <td>ABQ</td>\n",
       "      <td>Albuquerque</td>\n",
       "      <td>New Mexico</td>\n",
       "      <td>IAH</td>\n",
       "      <td>Houston</td>\n",
       "      <td>Texas</td>\n",
       "      <td>-2.0</td>\n",
       "      <td>-3.0</td>\n",
       "      <td>114.0</td>\n",
       "      <td>F</td>\n",
       "      <td>F</td>\n",
       "      <td>744</td>\n",
       "      <td>a bit late</td>\n",
       "      <td>a bit late</td>\n",
       "    </tr>\n",
       "  </tbody>\n",
       "</table>\n",
       "</div>"
      ],
      "text/plain": [
       "   TRANSACTIONID FLIGHTDATE                     AIRLINENAME ORIGINAIRPORTCODE  \\\n",
       "0       54548800 2002-01-01      Southwest Airlines Co.: WN               ABQ   \n",
       "1       55872300 2002-01-01  Continental Air Lines Inc.: CO               ABQ   \n",
       "2       54388800 2002-01-01      Southwest Airlines Co.: WN               ABQ   \n",
       "3       54486500 2002-01-01      Southwest Airlines Co.: WN               ABQ   \n",
       "4       55878700 2002-01-03  Continental Air Lines Inc.: CO               ABQ   \n",
       "\n",
       "  ORIGINCITYNAME ORIGINSTATENAME DESTAIRPORTCODE DESTCITYNAME DESTSTATENAME  \\\n",
       "0    Albuquerque      New Mexico             DAL       Dallas         Texas   \n",
       "1    Albuquerque      New Mexico             IAH      Houston         Texas   \n",
       "2    Albuquerque      New Mexico             MCI  Kansas City      Missouri   \n",
       "3    Albuquerque      New Mexico             LAS    Las Vegas        Nevada   \n",
       "4    Albuquerque      New Mexico             IAH      Houston         Texas   \n",
       "\n",
       "   DEPDELAY  ARRDELAY  ACTUALELAPSEDTIME CANCELLED DIVERTED  DISTANCE  \\\n",
       "0       0.0      -3.0               87.0         F        F       580   \n",
       "1       6.0       9.0              119.0         F        F       744   \n",
       "2      83.0      80.0              102.0         F        F       718   \n",
       "3       0.0      -2.0               83.0         F        F       487   \n",
       "4      -2.0      -3.0              114.0         F        F       744   \n",
       "\n",
       "    ARRSTATUS   DEPSTATUS  \n",
       "0  a bit late     on time  \n",
       "1  a bit late  a bit late  \n",
       "2   very late   very late  \n",
       "3  a bit late     on time  \n",
       "4  a bit late  a bit late  "
      ]
     },
     "execution_count": 49,
     "metadata": {},
     "output_type": "execute_result"
    }
   ],
   "source": [
    "new_df.head()"
   ]
  },
  {
   "cell_type": "code",
   "execution_count": 50,
   "id": "36084150",
   "metadata": {},
   "outputs": [],
   "source": [
    "#number of flights per year\n",
    "\n",
    "flight_year=df.groupby(new_df['FLIGHTDATE'].dt.year)['TRANSACTIONID'].agg('count').reset_index()\n",
    "flight_year.rename(columns={'TRANSACTIONID': \"NUMBEROFPFLIGHT\"}, inplace=True)"
   ]
  },
  {
   "cell_type": "code",
   "execution_count": 51,
   "id": "7c066d3b",
   "metadata": {},
   "outputs": [
    {
     "data": {
      "text/html": [
       "<div>\n",
       "<style scoped>\n",
       "    .dataframe tbody tr th:only-of-type {\n",
       "        vertical-align: middle;\n",
       "    }\n",
       "\n",
       "    .dataframe tbody tr th {\n",
       "        vertical-align: top;\n",
       "    }\n",
       "\n",
       "    .dataframe thead th {\n",
       "        text-align: right;\n",
       "    }\n",
       "</style>\n",
       "<table border=\"1\" class=\"dataframe\">\n",
       "  <thead>\n",
       "    <tr style=\"text-align: right;\">\n",
       "      <th></th>\n",
       "      <th>FLIGHTDATE</th>\n",
       "      <th>NUMBEROFPFLIGHT</th>\n",
       "    </tr>\n",
       "  </thead>\n",
       "  <tbody>\n",
       "    <tr>\n",
       "      <th>0</th>\n",
       "      <td>1992</td>\n",
       "      <td>50943</td>\n",
       "    </tr>\n",
       "    <tr>\n",
       "      <th>1</th>\n",
       "      <td>1993</td>\n",
       "      <td>50772</td>\n",
       "    </tr>\n",
       "    <tr>\n",
       "      <th>2</th>\n",
       "      <td>1994</td>\n",
       "      <td>51646</td>\n",
       "    </tr>\n",
       "    <tr>\n",
       "      <th>3</th>\n",
       "      <td>1995</td>\n",
       "      <td>53722</td>\n",
       "    </tr>\n",
       "    <tr>\n",
       "      <th>4</th>\n",
       "      <td>1996</td>\n",
       "      <td>53380</td>\n",
       "    </tr>\n",
       "    <tr>\n",
       "      <th>5</th>\n",
       "      <td>1997</td>\n",
       "      <td>54437</td>\n",
       "    </tr>\n",
       "    <tr>\n",
       "      <th>6</th>\n",
       "      <td>1998</td>\n",
       "      <td>53807</td>\n",
       "    </tr>\n",
       "    <tr>\n",
       "      <th>7</th>\n",
       "      <td>1999</td>\n",
       "      <td>55045</td>\n",
       "    </tr>\n",
       "    <tr>\n",
       "      <th>8</th>\n",
       "      <td>2000</td>\n",
       "      <td>56500</td>\n",
       "    </tr>\n",
       "    <tr>\n",
       "      <th>9</th>\n",
       "      <td>2001</td>\n",
       "      <td>62023</td>\n",
       "    </tr>\n",
       "    <tr>\n",
       "      <th>10</th>\n",
       "      <td>2002</td>\n",
       "      <td>52655</td>\n",
       "    </tr>\n",
       "    <tr>\n",
       "      <th>11</th>\n",
       "      <td>2003</td>\n",
       "      <td>64544</td>\n",
       "    </tr>\n",
       "    <tr>\n",
       "      <th>12</th>\n",
       "      <td>2004</td>\n",
       "      <td>70543</td>\n",
       "    </tr>\n",
       "    <tr>\n",
       "      <th>13</th>\n",
       "      <td>2009</td>\n",
       "      <td>63601</td>\n",
       "    </tr>\n",
       "    <tr>\n",
       "      <th>14</th>\n",
       "      <td>2010</td>\n",
       "      <td>63627</td>\n",
       "    </tr>\n",
       "    <tr>\n",
       "      <th>15</th>\n",
       "      <td>2011</td>\n",
       "      <td>60099</td>\n",
       "    </tr>\n",
       "    <tr>\n",
       "      <th>16</th>\n",
       "      <td>2012</td>\n",
       "      <td>59790</td>\n",
       "    </tr>\n",
       "    <tr>\n",
       "      <th>17</th>\n",
       "      <td>2013</td>\n",
       "      <td>62759</td>\n",
       "    </tr>\n",
       "    <tr>\n",
       "      <th>18</th>\n",
       "      <td>2014</td>\n",
       "      <td>57629</td>\n",
       "    </tr>\n",
       "    <tr>\n",
       "      <th>19</th>\n",
       "      <td>2015</td>\n",
       "      <td>57276</td>\n",
       "    </tr>\n",
       "    <tr>\n",
       "      <th>20</th>\n",
       "      <td>2016</td>\n",
       "      <td>37007</td>\n",
       "    </tr>\n",
       "  </tbody>\n",
       "</table>\n",
       "</div>"
      ],
      "text/plain": [
       "    FLIGHTDATE  NUMBEROFPFLIGHT\n",
       "0         1992            50943\n",
       "1         1993            50772\n",
       "2         1994            51646\n",
       "3         1995            53722\n",
       "4         1996            53380\n",
       "5         1997            54437\n",
       "6         1998            53807\n",
       "7         1999            55045\n",
       "8         2000            56500\n",
       "9         2001            62023\n",
       "10        2002            52655\n",
       "11        2003            64544\n",
       "12        2004            70543\n",
       "13        2009            63601\n",
       "14        2010            63627\n",
       "15        2011            60099\n",
       "16        2012            59790\n",
       "17        2013            62759\n",
       "18        2014            57629\n",
       "19        2015            57276\n",
       "20        2016            37007"
      ]
     },
     "execution_count": 51,
     "metadata": {},
     "output_type": "execute_result"
    }
   ],
   "source": [
    "flight_year"
   ]
  },
  {
   "cell_type": "code",
   "execution_count": 52,
   "id": "c9e6024d",
   "metadata": {},
   "outputs": [],
   "source": [
    "#number of flights per month\n",
    "flight_month=new_df.groupby(new_df['FLIGHTDATE'].dt.month)['TRANSACTIONID'].agg('count').reset_index()\n",
    "flight_month.rename(columns={'TRANSACTIONID': \"NUMBEROFPFLIGHT\"}, inplace=True)"
   ]
  },
  {
   "cell_type": "code",
   "execution_count": 53,
   "id": "279cbd17",
   "metadata": {},
   "outputs": [
    {
     "data": {
      "text/html": [
       "<div>\n",
       "<style scoped>\n",
       "    .dataframe tbody tr th:only-of-type {\n",
       "        vertical-align: middle;\n",
       "    }\n",
       "\n",
       "    .dataframe tbody tr th {\n",
       "        vertical-align: top;\n",
       "    }\n",
       "\n",
       "    .dataframe thead th {\n",
       "        text-align: right;\n",
       "    }\n",
       "</style>\n",
       "<table border=\"1\" class=\"dataframe\">\n",
       "  <thead>\n",
       "    <tr style=\"text-align: right;\">\n",
       "      <th></th>\n",
       "      <th>FLIGHTDATE</th>\n",
       "      <th>NUMBEROFPFLIGHT</th>\n",
       "    </tr>\n",
       "  </thead>\n",
       "  <tbody>\n",
       "    <tr>\n",
       "      <th>0</th>\n",
       "      <td>1</td>\n",
       "      <td>402156</td>\n",
       "    </tr>\n",
       "    <tr>\n",
       "      <th>1</th>\n",
       "      <td>5</td>\n",
       "      <td>411928</td>\n",
       "    </tr>\n",
       "    <tr>\n",
       "      <th>2</th>\n",
       "      <td>9</td>\n",
       "      <td>377721</td>\n",
       "    </tr>\n",
       "  </tbody>\n",
       "</table>\n",
       "</div>"
      ],
      "text/plain": [
       "   FLIGHTDATE  NUMBEROFPFLIGHT\n",
       "0           1           402156\n",
       "1           5           411928\n",
       "2           9           377721"
      ]
     },
     "execution_count": 53,
     "metadata": {},
     "output_type": "execute_result"
    }
   ],
   "source": [
    "flight_month"
   ]
  },
  {
   "cell_type": "code",
   "execution_count": 54,
   "id": "dfe3f287",
   "metadata": {},
   "outputs": [
    {
     "data": {
      "image/png": "[encoded data removed]",
      "text/plain": [
       "<Figure size 864x432 with 2 Axes>"
      ]
     },
     "metadata": {
      "needs_background": "light"
     },
     "output_type": "display_data"
    }
   ],
   "source": [
    "fig, (ax1, ax2)=plt.subplots(figsize=(12, 6), nrows=1, ncols=2)\n",
    "ax1.plot(flight_year['FLIGHTDATE'], flight_year['NUMBEROFPFLIGHT'])\n",
    "ax1.set(xlabel='Year', ylabel='Number of Flight')\n",
    "\n",
    "ax2.pie(flight_month['NUMBEROFPFLIGHT'], labels=['JAN', 'May', 'SEP'], autopct='%.2f%%')\n",
    "ax2.set(title='Number of flights per month');"
   ]
  },
  {
   "cell_type": "code",
   "execution_count": 55,
   "id": "51ff4f89",
   "metadata": {},
   "outputs": [],
   "source": [
    "#Number of flights, ACTUALELAPSEDTIME, DISTANCE per airline\n",
    "df1=new_df.groupby('AIRLINENAME')['TRANSACTIONID'].agg('count').reset_index()\n",
    "df1.rename(columns={'TRANSACTIONID': \"NUMBEROFPFLIGHTs\"}, inplace=True)\n",
    "df2=new_df.groupby('AIRLINENAME')['ACTUALELAPSEDTIME'].agg('sum').reset_index()\n",
    "df3=new_df.groupby('AIRLINENAME')['DISTANCE'].agg('sum').reset_index()\n",
    "\n",
    "df4=pd.merge(df1, df2, on='AIRLINENAME')\n",
    "flight_airline=pd.merge(df3, df4, on='AIRLINENAME')"
   ]
  },
  {
   "cell_type": "code",
   "execution_count": 56,
   "id": "7fda3a79",
   "metadata": {},
   "outputs": [
    {
     "data": {
      "text/html": [
       "<div>\n",
       "<style scoped>\n",
       "    .dataframe tbody tr th:only-of-type {\n",
       "        vertical-align: middle;\n",
       "    }\n",
       "\n",
       "    .dataframe tbody tr th {\n",
       "        vertical-align: top;\n",
       "    }\n",
       "\n",
       "    .dataframe thead th {\n",
       "        text-align: right;\n",
       "    }\n",
       "</style>\n",
       "<table border=\"1\" class=\"dataframe\">\n",
       "  <thead>\n",
       "    <tr style=\"text-align: right;\">\n",
       "      <th></th>\n",
       "      <th>DISTANCE</th>\n",
       "      <th>NUMBEROFPFLIGHTs</th>\n",
       "      <th>ACTUALELAPSEDTIME</th>\n",
       "    </tr>\n",
       "    <tr>\n",
       "      <th>AIRLINENAME</th>\n",
       "      <th></th>\n",
       "      <th></th>\n",
       "      <th></th>\n",
       "    </tr>\n",
       "  </thead>\n",
       "  <tbody>\n",
       "    <tr>\n",
       "      <th>Aloha Airlines Inc.: AQ</th>\n",
       "      <td>147155</td>\n",
       "      <td>645</td>\n",
       "      <td>30048.00</td>\n",
       "    </tr>\n",
       "    <tr>\n",
       "      <th>ATA Airlines d/b/a ATA: TZ</th>\n",
       "      <td>1592613</td>\n",
       "      <td>1420</td>\n",
       "      <td>243147.05</td>\n",
       "    </tr>\n",
       "    <tr>\n",
       "      <th>Spirit Air Lines: NK</th>\n",
       "      <td>2014568</td>\n",
       "      <td>2070</td>\n",
       "      <td>316232.50</td>\n",
       "    </tr>\n",
       "    <tr>\n",
       "      <th>Virgin America: VX</th>\n",
       "      <td>3983087</td>\n",
       "      <td>2728</td>\n",
       "      <td>575225.93</td>\n",
       "    </tr>\n",
       "    <tr>\n",
       "      <th>Independence Air: DH</th>\n",
       "      <td>2055549</td>\n",
       "      <td>5750</td>\n",
       "      <td>466685.98</td>\n",
       "    </tr>\n",
       "    <tr>\n",
       "      <th>Hawaiian Airlines Inc.: HA</th>\n",
       "      <td>3412828</td>\n",
       "      <td>5977</td>\n",
       "      <td>552122.34</td>\n",
       "    </tr>\n",
       "    <tr>\n",
       "      <th>Frontier Airlines Inc.: F9</th>\n",
       "      <td>5884748</td>\n",
       "      <td>6436</td>\n",
       "      <td>937494.60</td>\n",
       "    </tr>\n",
       "    <tr>\n",
       "      <th>Comair Inc.: OH (1)</th>\n",
       "      <td>3196281</td>\n",
       "      <td>6668</td>\n",
       "      <td>661878.45</td>\n",
       "    </tr>\n",
       "    <tr>\n",
       "      <th>Endeavor Air Inc.: 9E</th>\n",
       "      <td>3343906</td>\n",
       "      <td>8085</td>\n",
       "      <td>732754.20</td>\n",
       "    </tr>\n",
       "    <tr>\n",
       "      <th>Mesa Airlines Inc.: YV</th>\n",
       "      <td>3489848</td>\n",
       "      <td>8489</td>\n",
       "      <td>737933.70</td>\n",
       "    </tr>\n",
       "    <tr>\n",
       "      <th>AirTran Airways Corporation: FL</th>\n",
       "      <td>10537169</td>\n",
       "      <td>15006</td>\n",
       "      <td>1811584.09</td>\n",
       "    </tr>\n",
       "    <tr>\n",
       "      <th>ExpressJet Airlines Inc. (1): XE</th>\n",
       "      <td>9083722</td>\n",
       "      <td>17219</td>\n",
       "      <td>1754529.40</td>\n",
       "    </tr>\n",
       "    <tr>\n",
       "      <th>JetBlue Airways: B6</th>\n",
       "      <td>20181802</td>\n",
       "      <td>18806</td>\n",
       "      <td>3127446.60</td>\n",
       "    </tr>\n",
       "    <tr>\n",
       "      <th>America West Airlines Inc.: HP (Merged with US Airways 9/05.Stopped reporting 10/07.)</th>\n",
       "      <td>20923236</td>\n",
       "      <td>25915</td>\n",
       "      <td>3313224.87</td>\n",
       "    </tr>\n",
       "    <tr>\n",
       "      <th>Trans World Airways LLC: TW</th>\n",
       "      <td>19450879</td>\n",
       "      <td>26377</td>\n",
       "      <td>3247234.42</td>\n",
       "    </tr>\n",
       "    <tr>\n",
       "      <th>Alaska Airlines Inc.: AS</th>\n",
       "      <td>26461827</td>\n",
       "      <td>29836</td>\n",
       "      <td>4081853.70</td>\n",
       "    </tr>\n",
       "    <tr>\n",
       "      <th>ExpressJet Airlines Inc.: EV</th>\n",
       "      <td>20246940</td>\n",
       "      <td>45224</td>\n",
       "      <td>4063965.00</td>\n",
       "    </tr>\n",
       "    <tr>\n",
       "      <th>Envoy Air: MQ</th>\n",
       "      <td>19607490</td>\n",
       "      <td>48122</td>\n",
       "      <td>4107006.60</td>\n",
       "    </tr>\n",
       "    <tr>\n",
       "      <th>SkyWest Airlines Inc.: OO</th>\n",
       "      <td>23713281</td>\n",
       "      <td>53575</td>\n",
       "      <td>4796310.20</td>\n",
       "    </tr>\n",
       "    <tr>\n",
       "      <th>Continental Air Lines Inc.: CO</th>\n",
       "      <td>53483639</td>\n",
       "      <td>57828</td>\n",
       "      <td>8526611.56</td>\n",
       "    </tr>\n",
       "    <tr>\n",
       "      <th>Northwest Airlines Inc.: NW</th>\n",
       "      <td>49253707</td>\n",
       "      <td>69196</td>\n",
       "      <td>8213088.74</td>\n",
       "    </tr>\n",
       "    <tr>\n",
       "      <th>US Airways Inc.: US (Merged with America West 9/05. Reporting for both starting 10/07.)</th>\n",
       "      <td>74902608</td>\n",
       "      <td>118261</td>\n",
       "      <td>13023605.86</td>\n",
       "    </tr>\n",
       "    <tr>\n",
       "      <th>United Air Lines Inc.: UA</th>\n",
       "      <td>121644989</td>\n",
       "      <td>121804</td>\n",
       "      <td>18328910.78</td>\n",
       "    </tr>\n",
       "    <tr>\n",
       "      <th>American Airlines Inc.: AA</th>\n",
       "      <td>140153031</td>\n",
       "      <td>139782</td>\n",
       "      <td>21612658.56</td>\n",
       "    </tr>\n",
       "    <tr>\n",
       "      <th>Delta Air Lines Inc.: DL</th>\n",
       "      <td>127282666</td>\n",
       "      <td>166601</td>\n",
       "      <td>21046233.20</td>\n",
       "    </tr>\n",
       "    <tr>\n",
       "      <th>Southwest Airlines Co.: WN</th>\n",
       "      <td>108309452</td>\n",
       "      <td>189985</td>\n",
       "      <td>18184146.84</td>\n",
       "    </tr>\n",
       "  </tbody>\n",
       "</table>\n",
       "</div>"
      ],
      "text/plain": [
       "                                                     DISTANCE  \\\n",
       "AIRLINENAME                                                     \n",
       "Aloha Airlines Inc.: AQ                                147155   \n",
       "ATA Airlines d/b/a ATA: TZ                            1592613   \n",
       "Spirit Air Lines: NK                                  2014568   \n",
       "Virgin America: VX                                    3983087   \n",
       "Independence Air: DH                                  2055549   \n",
       "Hawaiian Airlines Inc.: HA                            3412828   \n",
       "Frontier Airlines Inc.: F9                            5884748   \n",
       "Comair Inc.: OH (1)                                   3196281   \n",
       "Endeavor Air Inc.: 9E                                 3343906   \n",
       "Mesa Airlines Inc.: YV                                3489848   \n",
       "AirTran Airways Corporation: FL                      10537169   \n",
       "ExpressJet Airlines Inc. (1): XE                      9083722   \n",
       "JetBlue Airways: B6                                  20181802   \n",
       "America West Airlines Inc.: HP (Merged with US ...   20923236   \n",
       "Trans World Airways LLC: TW                          19450879   \n",
       "Alaska Airlines Inc.: AS                             26461827   \n",
       "ExpressJet Airlines Inc.: EV                         20246940   \n",
       "Envoy Air: MQ                                        19607490   \n",
       "SkyWest Airlines Inc.: OO                            23713281   \n",
       "Continental Air Lines Inc.: CO                       53483639   \n",
       "Northwest Airlines Inc.: NW                          49253707   \n",
       "US Airways Inc.: US (Merged with America West 9...   74902608   \n",
       "United Air Lines Inc.: UA                           121644989   \n",
       "American Airlines Inc.: AA                          140153031   \n",
       "Delta Air Lines Inc.: DL                            127282666   \n",
       "Southwest Airlines Co.: WN                          108309452   \n",
       "\n",
       "                                                    NUMBEROFPFLIGHTs  \\\n",
       "AIRLINENAME                                                            \n",
       "Aloha Airlines Inc.: AQ                                          645   \n",
       "ATA Airlines d/b/a ATA: TZ                                      1420   \n",
       "Spirit Air Lines: NK                                            2070   \n",
       "Virgin America: VX                                              2728   \n",
       "Independence Air: DH                                            5750   \n",
       "Hawaiian Airlines Inc.: HA                                      5977   \n",
       "Frontier Airlines Inc.: F9                                      6436   \n",
       "Comair Inc.: OH (1)                                             6668   \n",
       "Endeavor Air Inc.: 9E                                           8085   \n",
       "Mesa Airlines Inc.: YV                                          8489   \n",
       "AirTran Airways Corporation: FL                                15006   \n",
       "ExpressJet Airlines Inc. (1): XE                               17219   \n",
       "JetBlue Airways: B6                                            18806   \n",
       "America West Airlines Inc.: HP (Merged with US ...             25915   \n",
       "Trans World Airways LLC: TW                                    26377   \n",
       "Alaska Airlines Inc.: AS                                       29836   \n",
       "ExpressJet Airlines Inc.: EV                                   45224   \n",
       "Envoy Air: MQ                                                  48122   \n",
       "SkyWest Airlines Inc.: OO                                      53575   \n",
       "Continental Air Lines Inc.: CO                                 57828   \n",
       "Northwest Airlines Inc.: NW                                    69196   \n",
       "US Airways Inc.: US (Merged with America West 9...            118261   \n",
       "United Air Lines Inc.: UA                                     121804   \n",
       "American Airlines Inc.: AA                                    139782   \n",
       "Delta Air Lines Inc.: DL                                      166601   \n",
       "Southwest Airlines Co.: WN                                    189985   \n",
       "\n",
       "                                                    ACTUALELAPSEDTIME  \n",
       "AIRLINENAME                                                            \n",
       "Aloha Airlines Inc.: AQ                                      30048.00  \n",
       "ATA Airlines d/b/a ATA: TZ                                  243147.05  \n",
       "Spirit Air Lines: NK                                        316232.50  \n",
       "Virgin America: VX                                          575225.93  \n",
       "Independence Air: DH                                        466685.98  \n",
       "Hawaiian Airlines Inc.: HA                                  552122.34  \n",
       "Frontier Airlines Inc.: F9                                  937494.60  \n",
       "Comair Inc.: OH (1)                                         661878.45  \n",
       "Endeavor Air Inc.: 9E                                       732754.20  \n",
       "Mesa Airlines Inc.: YV                                      737933.70  \n",
       "AirTran Airways Corporation: FL                            1811584.09  \n",
       "ExpressJet Airlines Inc. (1): XE                           1754529.40  \n",
       "JetBlue Airways: B6                                        3127446.60  \n",
       "America West Airlines Inc.: HP (Merged with US ...         3313224.87  \n",
       "Trans World Airways LLC: TW                                3247234.42  \n",
       "Alaska Airlines Inc.: AS                                   4081853.70  \n",
       "ExpressJet Airlines Inc.: EV                               4063965.00  \n",
       "Envoy Air: MQ                                              4107006.60  \n",
       "SkyWest Airlines Inc.: OO                                  4796310.20  \n",
       "Continental Air Lines Inc.: CO                             8526611.56  \n",
       "Northwest Airlines Inc.: NW                                8213088.74  \n",
       "US Airways Inc.: US (Merged with America West 9...        13023605.86  \n",
       "United Air Lines Inc.: UA                                 18328910.78  \n",
       "American Airlines Inc.: AA                                21612658.56  \n",
       "Delta Air Lines Inc.: DL                                  21046233.20  \n",
       "Southwest Airlines Co.: WN                                18184146.84  "
      ]
     },
     "execution_count": 56,
     "metadata": {},
     "output_type": "execute_result"
    }
   ],
   "source": [
    "flight_airline.sort_values(by='NUMBEROFPFLIGHTs').set_index('AIRLINENAME')"
   ]
  },
  {
   "cell_type": "code",
   "execution_count": 57,
   "id": "3ad85ae7",
   "metadata": {},
   "outputs": [
    {
     "data": {
      "text/html": [
       "<div>\n",
       "<style scoped>\n",
       "    .dataframe tbody tr th:only-of-type {\n",
       "        vertical-align: middle;\n",
       "    }\n",
       "\n",
       "    .dataframe tbody tr th {\n",
       "        vertical-align: top;\n",
       "    }\n",
       "\n",
       "    .dataframe thead th {\n",
       "        text-align: right;\n",
       "    }\n",
       "</style>\n",
       "<table border=\"1\" class=\"dataframe\">\n",
       "  <thead>\n",
       "    <tr style=\"text-align: right;\">\n",
       "      <th></th>\n",
       "      <th>ORIGINSTATENAME</th>\n",
       "      <th>NUMBEROFPFLIGHTs</th>\n",
       "    </tr>\n",
       "  </thead>\n",
       "  <tbody>\n",
       "    <tr>\n",
       "      <th>0</th>\n",
       "      <td>Alabama</td>\n",
       "      <td>7011</td>\n",
       "    </tr>\n",
       "    <tr>\n",
       "      <th>1</th>\n",
       "      <td>Alaska</td>\n",
       "      <td>8111</td>\n",
       "    </tr>\n",
       "    <tr>\n",
       "      <th>2</th>\n",
       "      <td>Arizona</td>\n",
       "      <td>39024</td>\n",
       "    </tr>\n",
       "    <tr>\n",
       "      <th>3</th>\n",
       "      <td>Arkansas</td>\n",
       "      <td>4763</td>\n",
       "    </tr>\n",
       "    <tr>\n",
       "      <th>4</th>\n",
       "      <td>California</td>\n",
       "      <td>141852</td>\n",
       "    </tr>\n",
       "    <tr>\n",
       "      <th>5</th>\n",
       "      <td>Colorado</td>\n",
       "      <td>39422</td>\n",
       "    </tr>\n",
       "    <tr>\n",
       "      <th>6</th>\n",
       "      <td>Connecticut</td>\n",
       "      <td>5655</td>\n",
       "    </tr>\n",
       "    <tr>\n",
       "      <th>7</th>\n",
       "      <td>Delaware</td>\n",
       "      <td>5</td>\n",
       "    </tr>\n",
       "    <tr>\n",
       "      <th>8</th>\n",
       "      <td>Florida</td>\n",
       "      <td>78338</td>\n",
       "    </tr>\n",
       "    <tr>\n",
       "      <th>9</th>\n",
       "      <td>Georgia</td>\n",
       "      <td>67182</td>\n",
       "    </tr>\n",
       "    <tr>\n",
       "      <th>10</th>\n",
       "      <td>Hawaii</td>\n",
       "      <td>11125</td>\n",
       "    </tr>\n",
       "    <tr>\n",
       "      <th>11</th>\n",
       "      <td>Idaho</td>\n",
       "      <td>3146</td>\n",
       "    </tr>\n",
       "    <tr>\n",
       "      <th>12</th>\n",
       "      <td>Illinois</td>\n",
       "      <td>78413</td>\n",
       "    </tr>\n",
       "    <tr>\n",
       "      <th>13</th>\n",
       "      <td>Indiana</td>\n",
       "      <td>9176</td>\n",
       "    </tr>\n",
       "    <tr>\n",
       "      <th>14</th>\n",
       "      <td>Iowa</td>\n",
       "      <td>3500</td>\n",
       "    </tr>\n",
       "    <tr>\n",
       "      <th>15</th>\n",
       "      <td>Kansas</td>\n",
       "      <td>2017</td>\n",
       "    </tr>\n",
       "    <tr>\n",
       "      <th>16</th>\n",
       "      <td>Kentucky</td>\n",
       "      <td>19137</td>\n",
       "    </tr>\n",
       "    <tr>\n",
       "      <th>17</th>\n",
       "      <td>Louisiana</td>\n",
       "      <td>13271</td>\n",
       "    </tr>\n",
       "    <tr>\n",
       "      <th>18</th>\n",
       "      <td>Maine</td>\n",
       "      <td>1741</td>\n",
       "    </tr>\n",
       "    <tr>\n",
       "      <th>19</th>\n",
       "      <td>Maryland</td>\n",
       "      <td>17515</td>\n",
       "    </tr>\n",
       "    <tr>\n",
       "      <th>20</th>\n",
       "      <td>Massachusetts</td>\n",
       "      <td>22310</td>\n",
       "    </tr>\n",
       "    <tr>\n",
       "      <th>21</th>\n",
       "      <td>Michigan</td>\n",
       "      <td>33342</td>\n",
       "    </tr>\n",
       "    <tr>\n",
       "      <th>22</th>\n",
       "      <td>Minnesota</td>\n",
       "      <td>27582</td>\n",
       "    </tr>\n",
       "    <tr>\n",
       "      <th>23</th>\n",
       "      <td>Mississippi</td>\n",
       "      <td>2441</td>\n",
       "    </tr>\n",
       "    <tr>\n",
       "      <th>24</th>\n",
       "      <td>Missouri</td>\n",
       "      <td>35668</td>\n",
       "    </tr>\n",
       "    <tr>\n",
       "      <th>25</th>\n",
       "      <td>Montana</td>\n",
       "      <td>3088</td>\n",
       "    </tr>\n",
       "    <tr>\n",
       "      <th>26</th>\n",
       "      <td>Nebraska</td>\n",
       "      <td>4513</td>\n",
       "    </tr>\n",
       "    <tr>\n",
       "      <th>27</th>\n",
       "      <td>Nevada</td>\n",
       "      <td>31670</td>\n",
       "    </tr>\n",
       "    <tr>\n",
       "      <th>28</th>\n",
       "      <td>New Hampshire</td>\n",
       "      <td>2081</td>\n",
       "    </tr>\n",
       "    <tr>\n",
       "      <th>29</th>\n",
       "      <td>New Jersey</td>\n",
       "      <td>24711</td>\n",
       "    </tr>\n",
       "    <tr>\n",
       "      <th>30</th>\n",
       "      <td>New Mexico</td>\n",
       "      <td>7178</td>\n",
       "    </tr>\n",
       "    <tr>\n",
       "      <th>31</th>\n",
       "      <td>New York</td>\n",
       "      <td>51653</td>\n",
       "    </tr>\n",
       "    <tr>\n",
       "      <th>32</th>\n",
       "      <td>North Carolina</td>\n",
       "      <td>39249</td>\n",
       "    </tr>\n",
       "    <tr>\n",
       "      <th>33</th>\n",
       "      <td>North Dakota</td>\n",
       "      <td>1929</td>\n",
       "    </tr>\n",
       "    <tr>\n",
       "      <th>34</th>\n",
       "      <td>Ohio</td>\n",
       "      <td>22753</td>\n",
       "    </tr>\n",
       "    <tr>\n",
       "      <th>35</th>\n",
       "      <td>Oklahoma</td>\n",
       "      <td>8825</td>\n",
       "    </tr>\n",
       "    <tr>\n",
       "      <th>36</th>\n",
       "      <td>Oregon</td>\n",
       "      <td>12143</td>\n",
       "    </tr>\n",
       "    <tr>\n",
       "      <th>37</th>\n",
       "      <td>Pennsylvania</td>\n",
       "      <td>39624</td>\n",
       "    </tr>\n",
       "    <tr>\n",
       "      <th>38</th>\n",
       "      <td>Puerto Rico</td>\n",
       "      <td>4788</td>\n",
       "    </tr>\n",
       "    <tr>\n",
       "      <th>39</th>\n",
       "      <td>Rhode Island</td>\n",
       "      <td>3910</td>\n",
       "    </tr>\n",
       "    <tr>\n",
       "      <th>40</th>\n",
       "      <td>South Carolina</td>\n",
       "      <td>5978</td>\n",
       "    </tr>\n",
       "    <tr>\n",
       "      <th>41</th>\n",
       "      <td>South Dakota</td>\n",
       "      <td>1593</td>\n",
       "    </tr>\n",
       "    <tr>\n",
       "      <th>42</th>\n",
       "      <td>Tennessee</td>\n",
       "      <td>23971</td>\n",
       "    </tr>\n",
       "    <tr>\n",
       "      <th>43</th>\n",
       "      <td>Texas</td>\n",
       "      <td>137592</td>\n",
       "    </tr>\n",
       "    <tr>\n",
       "      <th>44</th>\n",
       "      <td>U.S. Pacific Trust Territories and Possessions</td>\n",
       "      <td>118</td>\n",
       "    </tr>\n",
       "    <tr>\n",
       "      <th>45</th>\n",
       "      <td>U.S. Virgin Islands</td>\n",
       "      <td>799</td>\n",
       "    </tr>\n",
       "    <tr>\n",
       "      <th>46</th>\n",
       "      <td>Utah</td>\n",
       "      <td>20364</td>\n",
       "    </tr>\n",
       "    <tr>\n",
       "      <th>47</th>\n",
       "      <td>Vermont</td>\n",
       "      <td>913</td>\n",
       "    </tr>\n",
       "    <tr>\n",
       "      <th>48</th>\n",
       "      <td>Virginia</td>\n",
       "      <td>37271</td>\n",
       "    </tr>\n",
       "    <tr>\n",
       "      <th>49</th>\n",
       "      <td>Washington</td>\n",
       "      <td>23216</td>\n",
       "    </tr>\n",
       "    <tr>\n",
       "      <th>50</th>\n",
       "      <td>West Virginia</td>\n",
       "      <td>654</td>\n",
       "    </tr>\n",
       "    <tr>\n",
       "      <th>51</th>\n",
       "      <td>Wisconsin</td>\n",
       "      <td>8389</td>\n",
       "    </tr>\n",
       "    <tr>\n",
       "      <th>52</th>\n",
       "      <td>Wyoming</td>\n",
       "      <td>1085</td>\n",
       "    </tr>\n",
       "  </tbody>\n",
       "</table>\n",
       "</div>"
      ],
      "text/plain": [
       "                                   ORIGINSTATENAME  NUMBEROFPFLIGHTs\n",
       "0                                          Alabama              7011\n",
       "1                                           Alaska              8111\n",
       "2                                          Arizona             39024\n",
       "3                                         Arkansas              4763\n",
       "4                                       California            141852\n",
       "5                                         Colorado             39422\n",
       "6                                      Connecticut              5655\n",
       "7                                         Delaware                 5\n",
       "8                                          Florida             78338\n",
       "9                                          Georgia             67182\n",
       "10                                          Hawaii             11125\n",
       "11                                           Idaho              3146\n",
       "12                                        Illinois             78413\n",
       "13                                         Indiana              9176\n",
       "14                                            Iowa              3500\n",
       "15                                          Kansas              2017\n",
       "16                                        Kentucky             19137\n",
       "17                                       Louisiana             13271\n",
       "18                                           Maine              1741\n",
       "19                                        Maryland             17515\n",
       "20                                   Massachusetts             22310\n",
       "21                                        Michigan             33342\n",
       "22                                       Minnesota             27582\n",
       "23                                     Mississippi              2441\n",
       "24                                        Missouri             35668\n",
       "25                                         Montana              3088\n",
       "26                                        Nebraska              4513\n",
       "27                                          Nevada             31670\n",
       "28                                   New Hampshire              2081\n",
       "29                                      New Jersey             24711\n",
       "30                                      New Mexico              7178\n",
       "31                                        New York             51653\n",
       "32                                  North Carolina             39249\n",
       "33                                    North Dakota              1929\n",
       "34                                            Ohio             22753\n",
       "35                                        Oklahoma              8825\n",
       "36                                          Oregon             12143\n",
       "37                                    Pennsylvania             39624\n",
       "38                                     Puerto Rico              4788\n",
       "39                                    Rhode Island              3910\n",
       "40                                  South Carolina              5978\n",
       "41                                    South Dakota              1593\n",
       "42                                       Tennessee             23971\n",
       "43                                           Texas            137592\n",
       "44  U.S. Pacific Trust Territories and Possessions               118\n",
       "45                             U.S. Virgin Islands               799\n",
       "46                                            Utah             20364\n",
       "47                                         Vermont               913\n",
       "48                                        Virginia             37271\n",
       "49                                      Washington             23216\n",
       "50                                   West Virginia               654\n",
       "51                                       Wisconsin              8389\n",
       "52                                         Wyoming              1085"
      ]
     },
     "execution_count": 57,
     "metadata": {},
     "output_type": "execute_result"
    }
   ],
   "source": [
    "#number of flights per original state\n",
    "flight_state=new_df.groupby('ORIGINSTATENAME')['TRANSACTIONID'].agg('count').reset_index()\n",
    "flight_state.rename(columns={'TRANSACTIONID': \"NUMBEROFPFLIGHTs\"}, inplace=True)\n",
    "flight_state"
   ]
  },
  {
   "cell_type": "code",
   "execution_count": 58,
   "id": "cfae6e63",
   "metadata": {},
   "outputs": [
    {
     "data": {
      "image/png": "[encoded data removed]",
      "text/plain": [
       "<Figure size 1008x648 with 1 Axes>"
      ]
     },
     "metadata": {
      "needs_background": "light"
     },
     "output_type": "display_data"
    }
   ],
   "source": [
    "plt.figure(figsize=(14, 9))\n",
    "sns.barplot(data=flight_state, y='ORIGINSTATENAME', x='NUMBEROFPFLIGHTs');"
   ]
  },
  {
   "cell_type": "code",
   "execution_count": 59,
   "id": "a5df7613",
   "metadata": {},
   "outputs": [
    {
     "data": {
      "image/png": "[encoded data removed]",
      "text/plain": [
       "<Figure size 864x432 with 2 Axes>"
      ]
     },
     "metadata": {
      "needs_background": "light"
     },
     "output_type": "display_data"
    }
   ],
   "source": [
    "# arrival status and departure status\n",
    "fig, (ax1, ax2)=plt.subplots(figsize=(12, 6), nrows=1, ncols=2)\n",
    "ax1.plot(flight_year['FLIGHTDATE'], flight_year['NUMBEROFPFLIGHT'])\n",
    "ax1.set(xlabel='Year', ylabel='Number of Flight')\n",
    "\n",
    "ax2.pie(flight_month['NUMBEROFPFLIGHT'], labels=['JAN', 'May', 'SEP'], autopct='%.2f%%')\n",
    "ax2.set(title='Number of flights per month');"
   ]
  },
  {
   "cell_type": "code",
   "execution_count": 60,
   "id": "9bfabc43",
   "metadata": {
    "scrolled": true
   },
   "outputs": [
    {
     "data": {
      "text/html": [
       "<div>\n",
       "<style scoped>\n",
       "    .dataframe tbody tr th:only-of-type {\n",
       "        vertical-align: middle;\n",
       "    }\n",
       "\n",
       "    .dataframe tbody tr th {\n",
       "        vertical-align: top;\n",
       "    }\n",
       "\n",
       "    .dataframe thead th {\n",
       "        text-align: right;\n",
       "    }\n",
       "</style>\n",
       "<table border=\"1\" class=\"dataframe\">\n",
       "  <thead>\n",
       "    <tr style=\"text-align: right;\">\n",
       "      <th></th>\n",
       "      <th>ARRSTATUS</th>\n",
       "      <th>count</th>\n",
       "    </tr>\n",
       "  </thead>\n",
       "  <tbody>\n",
       "    <tr>\n",
       "      <th>0</th>\n",
       "      <td>a bit late</td>\n",
       "      <td>1068872</td>\n",
       "    </tr>\n",
       "    <tr>\n",
       "      <th>1</th>\n",
       "      <td>cancelled</td>\n",
       "      <td>28614</td>\n",
       "    </tr>\n",
       "    <tr>\n",
       "      <th>2</th>\n",
       "      <td>on time</td>\n",
       "      <td>43625</td>\n",
       "    </tr>\n",
       "    <tr>\n",
       "      <th>3</th>\n",
       "      <td>very late</td>\n",
       "      <td>50694</td>\n",
       "    </tr>\n",
       "  </tbody>\n",
       "</table>\n",
       "</div>"
      ],
      "text/plain": [
       "    ARRSTATUS    count\n",
       "0  a bit late  1068872\n",
       "1   cancelled    28614\n",
       "2     on time    43625\n",
       "3   very late    50694"
      ]
     },
     "execution_count": 60,
     "metadata": {},
     "output_type": "execute_result"
    }
   ],
   "source": [
    "arrival_status=new_df.groupby('ARRSTATUS')['TRANSACTIONID'].agg('count').reset_index()\n",
    "arrival_status.rename(columns={'TRANSACTIONID':'count'}, inplace=True)\n",
    "arrival_status"
   ]
  },
  {
   "cell_type": "code",
   "execution_count": 61,
   "id": "caffe5c3",
   "metadata": {},
   "outputs": [
    {
     "data": {
      "text/html": [
       "<div>\n",
       "<style scoped>\n",
       "    .dataframe tbody tr th:only-of-type {\n",
       "        vertical-align: middle;\n",
       "    }\n",
       "\n",
       "    .dataframe tbody tr th {\n",
       "        vertical-align: top;\n",
       "    }\n",
       "\n",
       "    .dataframe thead th {\n",
       "        text-align: right;\n",
       "    }\n",
       "</style>\n",
       "<table border=\"1\" class=\"dataframe\">\n",
       "  <thead>\n",
       "    <tr style=\"text-align: right;\">\n",
       "      <th></th>\n",
       "      <th>DEPSTATUS</th>\n",
       "      <th>count</th>\n",
       "    </tr>\n",
       "  </thead>\n",
       "  <tbody>\n",
       "    <tr>\n",
       "      <th>0</th>\n",
       "      <td>a bit late</td>\n",
       "      <td>929239</td>\n",
       "    </tr>\n",
       "    <tr>\n",
       "      <th>1</th>\n",
       "      <td>cancelled</td>\n",
       "      <td>28614</td>\n",
       "    </tr>\n",
       "    <tr>\n",
       "      <th>2</th>\n",
       "      <td>on time</td>\n",
       "      <td>187365</td>\n",
       "    </tr>\n",
       "    <tr>\n",
       "      <th>3</th>\n",
       "      <td>very late</td>\n",
       "      <td>46587</td>\n",
       "    </tr>\n",
       "  </tbody>\n",
       "</table>\n",
       "</div>"
      ],
      "text/plain": [
       "    DEPSTATUS   count\n",
       "0  a bit late  929239\n",
       "1   cancelled   28614\n",
       "2     on time  187365\n",
       "3   very late   46587"
      ]
     },
     "execution_count": 61,
     "metadata": {},
     "output_type": "execute_result"
    }
   ],
   "source": [
    "departure_status=new_df.groupby('DEPSTATUS')['TRANSACTIONID'].agg('count').reset_index()\n",
    "departure_status.rename(columns={'TRANSACTIONID':'count'}, inplace=True)\n",
    "departure_status"
   ]
  },
  {
   "cell_type": "code",
   "execution_count": 62,
   "id": "266756f7",
   "metadata": {},
   "outputs": [
    {
     "data": {
      "image/png": "[encoded data removed]",
      "text/plain": [
       "<Figure size 864x432 with 2 Axes>"
      ]
     },
     "metadata": {},
     "output_type": "display_data"
    }
   ],
   "source": [
    "fig, (ax1, ax2)=plt.subplots(figsize=(12, 6), nrows=1, ncols=2)\n",
    "ax1.pie(departure_status['count'], labels=list(departure_status['DEPSTATUS']), autopct='%.2f%%', explode=[0.0, 0.2, 0.0, 0.0])\n",
    "ax1.set(title='Departure Status')\n",
    "\n",
    "ax2.pie(arrival_status['count'], labels=list(arrival_status['ARRSTATUS']), autopct='%.2f%%', explode=[0.0, 0.2, 0.1, 0.0])\n",
    "ax2.set(title='Arrival Status');"
   ]
  },
  {
   "cell_type": "code",
   "execution_count": null,
   "id": "439f73ad",
   "metadata": {},
   "outputs": [],
   "source": []
  },
  {
   "cell_type": "code",
   "execution_count": null,
   "id": "4b9237af",
   "metadata": {},
   "outputs": [],
   "source": []
  }
 ],
 "metadata": {
  "kernelspec": {
   "display_name": "Python 3 (ipykernel)",
   "language": "python",
   "name": "python3"
  },
  "language_info": {
   "codemirror_mode": {
    "name": "ipython",
    "version": 3
   },
   "file_extension": ".py",
   "mimetype": "text/x-python",
   "name": "python",
   "nbconvert_exporter": "python",
   "pygments_lexer": "ipython3",
   "version": "3.9.7"
  }
 },
 "nbformat": 4,
 "nbformat_minor": 5
}
